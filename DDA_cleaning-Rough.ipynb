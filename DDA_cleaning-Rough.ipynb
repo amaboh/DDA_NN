{
 "cells": [
  {
   "cell_type": "code",
   "execution_count": null,
   "metadata": {
    "id": "o4hiN2edAc6P"
   },
   "outputs": [],
   "source": [
    "!unzip Train_Dataset.zip"
   ]
  },
  {
   "cell_type": "code",
   "execution_count": null,
   "metadata": {},
   "outputs": [],
   "source": [
    "!rm Train_Dataset.zip"
   ]
  },
  {
   "cell_type": "markdown",
   "metadata": {},
   "source": [
    "### Import Libraries"
   ]
  },
  {
   "cell_type": "code",
   "execution_count": 1,
   "metadata": {},
   "outputs": [],
   "source": [
    "#importing neccesary libraries\n",
    "import numpy as np\n",
    "import pandas as pd\n",
    "import matplotlib.pyplot as plt\n",
    "%matplotlib inline\n",
    "import seaborn as sns"
   ]
  },
  {
   "cell_type": "markdown",
   "metadata": {},
   "source": [
    "### Loading Dataset to Dataframe"
   ]
  },
  {
   "cell_type": "code",
   "execution_count": 2,
   "metadata": {},
   "outputs": [
    {
     "data": {
      "text/plain": [
       "ID                           object\n",
       "Customer_ID                  object\n",
       "Month                        object\n",
       "Name                         object\n",
       "Age                          object\n",
       "SSN                          object\n",
       "Occupation                   object\n",
       "Annual_Income                object\n",
       "Monthly_Inhand_Salary       float64\n",
       "Num_Bank_Accounts             int64\n",
       "Num_Credit_Card               int64\n",
       "Interest_Rate                 int64\n",
       "Num_of_Loan                  object\n",
       "Type_of_Loan                 object\n",
       "Delay_from_due_date           int64\n",
       "Num_of_Delayed_Payment       object\n",
       "Changed_Credit_Limit         object\n",
       "Num_Credit_Inquiries        float64\n",
       "Credit_Mix                   object\n",
       "Outstanding_Debt             object\n",
       "Credit_Utilization_Ratio    float64\n",
       "Credit_History_Age           object\n",
       "Payment_of_Min_Amount        object\n",
       "Total_EMI_per_month         float64\n",
       "Amount_invested_monthly      object\n",
       "Payment_Behaviour            object\n",
       "Monthly_Balance              object\n",
       "Credit_Score                 object\n",
       "dtype: object"
      ]
     },
     "execution_count": 2,
     "metadata": {},
     "output_type": "execute_result"
    }
   ],
   "source": [
    "dataset = pd.read_csv('train.csv',low_memory=False)\n",
    "dataset.dtypes"
   ]
  },
  {
   "cell_type": "code",
   "execution_count": 3,
   "metadata": {
    "id": "Cf_5fvcfF1P7"
   },
   "outputs": [],
   "source": [
    "\n",
    "#dropping features which are not useful for determining the credit score\n",
    "final_dataset = dataset.drop([\"Amount_invested_monthly\", \"SSN\", \"Name\", \"Month\", \"Age\", \"Num_Bank_Accounts\", \"Num_Credit_Card\", \"Interest_Rate\", \"Type_of_Loan\", \"Changed_Credit_Limit\", \"Num_Credit_Inquiries\", \"Credit_Mix\", \"Credit_Utilization_Ratio\"], axis=1)"
   ]
  },
  {
   "cell_type": "code",
   "execution_count": 4,
   "metadata": {},
   "outputs": [
    {
     "name": "stdout",
     "output_type": "stream",
     "text": [
      "<class 'pandas.core.frame.DataFrame'>\n",
      "RangeIndex: 100000 entries, 0 to 99999\n",
      "Data columns (total 15 columns):\n",
      " #   Column                  Non-Null Count   Dtype  \n",
      "---  ------                  --------------   -----  \n",
      " 0   ID                      100000 non-null  object \n",
      " 1   Customer_ID             100000 non-null  object \n",
      " 2   Occupation              100000 non-null  object \n",
      " 3   Annual_Income           100000 non-null  object \n",
      " 4   Monthly_Inhand_Salary   84998 non-null   float64\n",
      " 5   Num_of_Loan             100000 non-null  object \n",
      " 6   Delay_from_due_date     100000 non-null  int64  \n",
      " 7   Num_of_Delayed_Payment  92998 non-null   object \n",
      " 8   Outstanding_Debt        100000 non-null  object \n",
      " 9   Credit_History_Age      90970 non-null   object \n",
      " 10  Payment_of_Min_Amount   100000 non-null  object \n",
      " 11  Total_EMI_per_month     100000 non-null  float64\n",
      " 12  Payment_Behaviour       100000 non-null  object \n",
      " 13  Monthly_Balance         98800 non-null   object \n",
      " 14  Credit_Score            100000 non-null  object \n",
      "dtypes: float64(2), int64(1), object(12)\n",
      "memory usage: 11.4+ MB\n"
     ]
    }
   ],
   "source": [
    "final_dataset.info()"
   ]
  },
  {
   "cell_type": "code",
   "execution_count": 5,
   "metadata": {
    "id": "Fgx3m0VSGN14"
   },
   "outputs": [],
   "source": [
    "#dataset.to_csv('final_dataset.csv', index=False)  \n",
    "#this is the mistake you are converting the initial dataframe (dataset) itself to csv\n",
    "#instead of the new dataframe (final dataset)\n",
    "\n",
    "final_dataset.to_csv('final_dataset.csv', index=False)"
   ]
  },
  {
   "cell_type": "code",
   "execution_count": 6,
   "metadata": {
    "id": "nN9m4HlBD71J"
   },
   "outputs": [],
   "source": [
    "#final_dataset = pd.read_csv('final_dataset.csv', low_memory=False)\n",
    "x = final_dataset.iloc[:,:-1].values\n",
    "y = final_dataset.iloc[:,-1].values"
   ]
  },
  {
   "cell_type": "code",
   "execution_count": 7,
   "metadata": {},
   "outputs": [
    {
     "data": {
      "text/plain": [
       "array([['0x1602', 'CUS_0xd40', 'Scientist', ..., 49.57494921489417,\n",
       "        'High_spent_Small_value_payments', '312.49408867943663'],\n",
       "       ['0x1603', 'CUS_0xd40', 'Scientist', ..., 49.57494921489417,\n",
       "        'Low_spent_Large_value_payments', '284.62916249607184'],\n",
       "       ['0x1604', 'CUS_0xd40', 'Scientist', ..., 49.57494921489417,\n",
       "        'Low_spent_Medium_value_payments', '331.2098628537912'],\n",
       "       ...,\n",
       "       ['0x25feb', 'CUS_0x942c', 'Mechanic', ..., 35.10402261040746,\n",
       "        'High_spent_Large_value_payments', '516.8090832742814'],\n",
       "       ['0x25fec', 'CUS_0x942c', 'Mechanic', ..., 35.10402261040746,\n",
       "        'Low_spent_Large_value_payments', '319.1649785257098'],\n",
       "       ['0x25fed', 'CUS_0x942c', 'Mechanic', ..., 35.10402261040746,\n",
       "        '!@9#%8', '393.6736955618808']], dtype=object)"
      ]
     },
     "execution_count": 7,
     "metadata": {},
     "output_type": "execute_result"
    }
   ],
   "source": [
    "x"
   ]
  },
  {
   "cell_type": "code",
   "execution_count": 8,
   "metadata": {},
   "outputs": [
    {
     "data": {
      "text/plain": [
       "array(['Good', 'Good', 'Good', ..., 'Poor', 'Standard', 'Poor'],\n",
       "      dtype=object)"
      ]
     },
     "execution_count": 8,
     "metadata": {},
     "output_type": "execute_result"
    }
   ],
   "source": [
    "y"
   ]
  },
  {
   "cell_type": "code",
   "execution_count": 9,
   "metadata": {},
   "outputs": [
    {
     "data": {
      "text/html": [
       "<div>\n",
       "<style scoped>\n",
       "    .dataframe tbody tr th:only-of-type {\n",
       "        vertical-align: middle;\n",
       "    }\n",
       "\n",
       "    .dataframe tbody tr th {\n",
       "        vertical-align: top;\n",
       "    }\n",
       "\n",
       "    .dataframe thead th {\n",
       "        text-align: right;\n",
       "    }\n",
       "</style>\n",
       "<table border=\"1\" class=\"dataframe\">\n",
       "  <thead>\n",
       "    <tr style=\"text-align: right;\">\n",
       "      <th></th>\n",
       "      <th>ID</th>\n",
       "      <th>Customer_ID</th>\n",
       "      <th>Occupation</th>\n",
       "      <th>Annual_Income</th>\n",
       "      <th>Monthly_Inhand_Salary</th>\n",
       "      <th>Num_of_Loan</th>\n",
       "      <th>Delay_from_due_date</th>\n",
       "      <th>Num_of_Delayed_Payment</th>\n",
       "      <th>Outstanding_Debt</th>\n",
       "      <th>Credit_History_Age</th>\n",
       "      <th>Payment_of_Min_Amount</th>\n",
       "      <th>Total_EMI_per_month</th>\n",
       "      <th>Payment_Behaviour</th>\n",
       "      <th>Monthly_Balance</th>\n",
       "      <th>Credit_Score</th>\n",
       "    </tr>\n",
       "  </thead>\n",
       "  <tbody>\n",
       "    <tr>\n",
       "      <th>0</th>\n",
       "      <td>0x1602</td>\n",
       "      <td>CUS_0xd40</td>\n",
       "      <td>Scientist</td>\n",
       "      <td>19114.12</td>\n",
       "      <td>1824.843333</td>\n",
       "      <td>4</td>\n",
       "      <td>3</td>\n",
       "      <td>7</td>\n",
       "      <td>809.98</td>\n",
       "      <td>22 Years and 1 Months</td>\n",
       "      <td>No</td>\n",
       "      <td>49.574949</td>\n",
       "      <td>High_spent_Small_value_payments</td>\n",
       "      <td>312.49408867943663</td>\n",
       "      <td>Good</td>\n",
       "    </tr>\n",
       "    <tr>\n",
       "      <th>1</th>\n",
       "      <td>0x1603</td>\n",
       "      <td>CUS_0xd40</td>\n",
       "      <td>Scientist</td>\n",
       "      <td>19114.12</td>\n",
       "      <td>NaN</td>\n",
       "      <td>4</td>\n",
       "      <td>-1</td>\n",
       "      <td>NaN</td>\n",
       "      <td>809.98</td>\n",
       "      <td>NaN</td>\n",
       "      <td>No</td>\n",
       "      <td>49.574949</td>\n",
       "      <td>Low_spent_Large_value_payments</td>\n",
       "      <td>284.62916249607184</td>\n",
       "      <td>Good</td>\n",
       "    </tr>\n",
       "    <tr>\n",
       "      <th>2</th>\n",
       "      <td>0x1604</td>\n",
       "      <td>CUS_0xd40</td>\n",
       "      <td>Scientist</td>\n",
       "      <td>19114.12</td>\n",
       "      <td>NaN</td>\n",
       "      <td>4</td>\n",
       "      <td>3</td>\n",
       "      <td>7</td>\n",
       "      <td>809.98</td>\n",
       "      <td>22 Years and 3 Months</td>\n",
       "      <td>No</td>\n",
       "      <td>49.574949</td>\n",
       "      <td>Low_spent_Medium_value_payments</td>\n",
       "      <td>331.2098628537912</td>\n",
       "      <td>Good</td>\n",
       "    </tr>\n",
       "    <tr>\n",
       "      <th>3</th>\n",
       "      <td>0x1605</td>\n",
       "      <td>CUS_0xd40</td>\n",
       "      <td>Scientist</td>\n",
       "      <td>19114.12</td>\n",
       "      <td>NaN</td>\n",
       "      <td>4</td>\n",
       "      <td>5</td>\n",
       "      <td>4</td>\n",
       "      <td>809.98</td>\n",
       "      <td>22 Years and 4 Months</td>\n",
       "      <td>No</td>\n",
       "      <td>49.574949</td>\n",
       "      <td>Low_spent_Small_value_payments</td>\n",
       "      <td>223.45130972736786</td>\n",
       "      <td>Good</td>\n",
       "    </tr>\n",
       "    <tr>\n",
       "      <th>4</th>\n",
       "      <td>0x1606</td>\n",
       "      <td>CUS_0xd40</td>\n",
       "      <td>Scientist</td>\n",
       "      <td>19114.12</td>\n",
       "      <td>1824.843333</td>\n",
       "      <td>4</td>\n",
       "      <td>6</td>\n",
       "      <td>NaN</td>\n",
       "      <td>809.98</td>\n",
       "      <td>22 Years and 5 Months</td>\n",
       "      <td>No</td>\n",
       "      <td>49.574949</td>\n",
       "      <td>High_spent_Medium_value_payments</td>\n",
       "      <td>341.48923103222177</td>\n",
       "      <td>Good</td>\n",
       "    </tr>\n",
       "  </tbody>\n",
       "</table>\n",
       "</div>"
      ],
      "text/plain": [
       "       ID Customer_ID Occupation Annual_Income  Monthly_Inhand_Salary  \\\n",
       "0  0x1602   CUS_0xd40  Scientist      19114.12            1824.843333   \n",
       "1  0x1603   CUS_0xd40  Scientist      19114.12                    NaN   \n",
       "2  0x1604   CUS_0xd40  Scientist      19114.12                    NaN   \n",
       "3  0x1605   CUS_0xd40  Scientist      19114.12                    NaN   \n",
       "4  0x1606   CUS_0xd40  Scientist      19114.12            1824.843333   \n",
       "\n",
       "  Num_of_Loan  Delay_from_due_date Num_of_Delayed_Payment Outstanding_Debt  \\\n",
       "0           4                    3                      7           809.98   \n",
       "1           4                   -1                    NaN           809.98   \n",
       "2           4                    3                      7           809.98   \n",
       "3           4                    5                      4           809.98   \n",
       "4           4                    6                    NaN           809.98   \n",
       "\n",
       "      Credit_History_Age Payment_of_Min_Amount  Total_EMI_per_month  \\\n",
       "0  22 Years and 1 Months                    No            49.574949   \n",
       "1                    NaN                    No            49.574949   \n",
       "2  22 Years and 3 Months                    No            49.574949   \n",
       "3  22 Years and 4 Months                    No            49.574949   \n",
       "4  22 Years and 5 Months                    No            49.574949   \n",
       "\n",
       "                  Payment_Behaviour     Monthly_Balance Credit_Score  \n",
       "0   High_spent_Small_value_payments  312.49408867943663         Good  \n",
       "1    Low_spent_Large_value_payments  284.62916249607184         Good  \n",
       "2   Low_spent_Medium_value_payments   331.2098628537912         Good  \n",
       "3    Low_spent_Small_value_payments  223.45130972736786         Good  \n",
       "4  High_spent_Medium_value_payments  341.48923103222177         Good  "
      ]
     },
     "execution_count": 9,
     "metadata": {},
     "output_type": "execute_result"
    }
   ],
   "source": [
    "final_dataset.head()"
   ]
  },
  {
   "cell_type": "code",
   "execution_count": 10,
   "metadata": {
    "colab": {
     "base_uri": "https://localhost:8080/"
    },
    "id": "CkH7iY-UEACo",
    "outputId": "52f1d62c-3528-406d-f6f1-7646e294da24"
   },
   "outputs": [
    {
     "data": {
      "text/plain": [
       "(100000, 15)"
      ]
     },
     "execution_count": 10,
     "metadata": {},
     "output_type": "execute_result"
    }
   ],
   "source": [
    "final_dataset.shape"
   ]
  },
  {
   "cell_type": "markdown",
   "metadata": {
    "id": "7dNFJngRX7CE"
   },
   "source": [
    "## Data Cleaning and fixing variables"
   ]
  },
  {
   "cell_type": "code",
   "execution_count": 11,
   "metadata": {
    "colab": {
     "base_uri": "https://localhost:8080/"
    },
    "id": "2Euj6388YCpY",
    "outputId": "a6d5ec4f-a21c-4611-b24c-1448bf8cdcb2"
   },
   "outputs": [
    {
     "name": "stdout",
     "output_type": "stream",
     "text": [
      "<class 'pandas.core.frame.DataFrame'>\n",
      "RangeIndex: 100000 entries, 0 to 99999\n",
      "Data columns (total 15 columns):\n",
      " #   Column                  Non-Null Count   Dtype  \n",
      "---  ------                  --------------   -----  \n",
      " 0   ID                      100000 non-null  object \n",
      " 1   Customer_ID             100000 non-null  object \n",
      " 2   Occupation              100000 non-null  object \n",
      " 3   Annual_Income           100000 non-null  object \n",
      " 4   Monthly_Inhand_Salary   84998 non-null   float64\n",
      " 5   Num_of_Loan             100000 non-null  object \n",
      " 6   Delay_from_due_date     100000 non-null  int64  \n",
      " 7   Num_of_Delayed_Payment  92998 non-null   object \n",
      " 8   Outstanding_Debt        100000 non-null  object \n",
      " 9   Credit_History_Age      90970 non-null   object \n",
      " 10  Payment_of_Min_Amount   100000 non-null  object \n",
      " 11  Total_EMI_per_month     100000 non-null  float64\n",
      " 12  Payment_Behaviour       100000 non-null  object \n",
      " 13  Monthly_Balance         98800 non-null   object \n",
      " 14  Credit_Score            100000 non-null  object \n",
      "dtypes: float64(2), int64(1), object(12)\n",
      "memory usage: 11.4+ MB\n"
     ]
    }
   ],
   "source": [
    "final_dataset.info()"
   ]
  },
  {
   "cell_type": "code",
   "execution_count": 29,
   "metadata": {},
   "outputs": [
    {
     "data": {
      "text/plain": [
       "15002"
      ]
     },
     "execution_count": 29,
     "metadata": {},
     "output_type": "execute_result"
    }
   ],
   "source": [
    "100000-84998"
   ]
  },
  {
   "cell_type": "markdown",
   "metadata": {},
   "source": [
    "#### Identifying the number of Null Values and related Customer Id for Validation"
   ]
  },
  {
   "cell_type": "code",
   "execution_count": 12,
   "metadata": {},
   "outputs": [
    {
     "data": {
      "text/html": [
       "<div>\n",
       "<style scoped>\n",
       "    .dataframe tbody tr th:only-of-type {\n",
       "        vertical-align: middle;\n",
       "    }\n",
       "\n",
       "    .dataframe tbody tr th {\n",
       "        vertical-align: top;\n",
       "    }\n",
       "\n",
       "    .dataframe thead th {\n",
       "        text-align: right;\n",
       "    }\n",
       "</style>\n",
       "<table border=\"1\" class=\"dataframe\">\n",
       "  <thead>\n",
       "    <tr style=\"text-align: right;\">\n",
       "      <th></th>\n",
       "      <th>ID</th>\n",
       "      <th>Customer_ID</th>\n",
       "      <th>Occupation</th>\n",
       "      <th>Annual_Income</th>\n",
       "      <th>Monthly_Inhand_Salary</th>\n",
       "      <th>Num_of_Loan</th>\n",
       "      <th>Delay_from_due_date</th>\n",
       "      <th>Num_of_Delayed_Payment</th>\n",
       "      <th>Outstanding_Debt</th>\n",
       "      <th>Credit_History_Age</th>\n",
       "      <th>Payment_of_Min_Amount</th>\n",
       "      <th>Total_EMI_per_month</th>\n",
       "      <th>Payment_Behaviour</th>\n",
       "      <th>Monthly_Balance</th>\n",
       "      <th>Credit_Score</th>\n",
       "    </tr>\n",
       "  </thead>\n",
       "  <tbody>\n",
       "    <tr>\n",
       "      <th>1</th>\n",
       "      <td>0x1603</td>\n",
       "      <td>CUS_0xd40</td>\n",
       "      <td>Scientist</td>\n",
       "      <td>19114.12</td>\n",
       "      <td>NaN</td>\n",
       "      <td>4</td>\n",
       "      <td>-1</td>\n",
       "      <td>NaN</td>\n",
       "      <td>809.98</td>\n",
       "      <td>NaN</td>\n",
       "      <td>No</td>\n",
       "      <td>49.574949</td>\n",
       "      <td>Low_spent_Large_value_payments</td>\n",
       "      <td>284.62916249607184</td>\n",
       "      <td>Good</td>\n",
       "    </tr>\n",
       "    <tr>\n",
       "      <th>2</th>\n",
       "      <td>0x1604</td>\n",
       "      <td>CUS_0xd40</td>\n",
       "      <td>Scientist</td>\n",
       "      <td>19114.12</td>\n",
       "      <td>NaN</td>\n",
       "      <td>4</td>\n",
       "      <td>3</td>\n",
       "      <td>7</td>\n",
       "      <td>809.98</td>\n",
       "      <td>22 Years and 3 Months</td>\n",
       "      <td>No</td>\n",
       "      <td>49.574949</td>\n",
       "      <td>Low_spent_Medium_value_payments</td>\n",
       "      <td>331.2098628537912</td>\n",
       "      <td>Good</td>\n",
       "    </tr>\n",
       "    <tr>\n",
       "      <th>3</th>\n",
       "      <td>0x1605</td>\n",
       "      <td>CUS_0xd40</td>\n",
       "      <td>Scientist</td>\n",
       "      <td>19114.12</td>\n",
       "      <td>NaN</td>\n",
       "      <td>4</td>\n",
       "      <td>5</td>\n",
       "      <td>4</td>\n",
       "      <td>809.98</td>\n",
       "      <td>22 Years and 4 Months</td>\n",
       "      <td>No</td>\n",
       "      <td>49.574949</td>\n",
       "      <td>Low_spent_Small_value_payments</td>\n",
       "      <td>223.45130972736786</td>\n",
       "      <td>Good</td>\n",
       "    </tr>\n",
       "    <tr>\n",
       "      <th>5</th>\n",
       "      <td>0x1607</td>\n",
       "      <td>CUS_0xd40</td>\n",
       "      <td>Scientist</td>\n",
       "      <td>19114.12</td>\n",
       "      <td>NaN</td>\n",
       "      <td>4</td>\n",
       "      <td>8</td>\n",
       "      <td>4</td>\n",
       "      <td>809.98</td>\n",
       "      <td>22 Years and 6 Months</td>\n",
       "      <td>No</td>\n",
       "      <td>49.574949</td>\n",
       "      <td>!@9#%8</td>\n",
       "      <td>340.4792117872438</td>\n",
       "      <td>Good</td>\n",
       "    </tr>\n",
       "    <tr>\n",
       "      <th>11</th>\n",
       "      <td>0x1611</td>\n",
       "      <td>CUS_0x21b1</td>\n",
       "      <td>Teacher</td>\n",
       "      <td>34847.84</td>\n",
       "      <td>NaN</td>\n",
       "      <td>1</td>\n",
       "      <td>3</td>\n",
       "      <td>3_</td>\n",
       "      <td>605.03</td>\n",
       "      <td>26 Years and 10 Months</td>\n",
       "      <td>No</td>\n",
       "      <td>18.816215</td>\n",
       "      <td>Low_spent_Medium_value_payments</td>\n",
       "      <td>465.6762241330048</td>\n",
       "      <td>Good</td>\n",
       "    </tr>\n",
       "    <tr>\n",
       "      <th>...</th>\n",
       "      <td>...</td>\n",
       "      <td>...</td>\n",
       "      <td>...</td>\n",
       "      <td>...</td>\n",
       "      <td>...</td>\n",
       "      <td>...</td>\n",
       "      <td>...</td>\n",
       "      <td>...</td>\n",
       "      <td>...</td>\n",
       "      <td>...</td>\n",
       "      <td>...</td>\n",
       "      <td>...</td>\n",
       "      <td>...</td>\n",
       "      <td>...</td>\n",
       "      <td>...</td>\n",
       "    </tr>\n",
       "    <tr>\n",
       "      <th>99944</th>\n",
       "      <td>0x25f9e</td>\n",
       "      <td>CUS_0x51b3</td>\n",
       "      <td>Media_Manager</td>\n",
       "      <td>59146.36</td>\n",
       "      <td>NaN</td>\n",
       "      <td>1</td>\n",
       "      <td>8</td>\n",
       "      <td>6</td>\n",
       "      <td>418.03</td>\n",
       "      <td>NaN</td>\n",
       "      <td>No</td>\n",
       "      <td>26.778419</td>\n",
       "      <td>Low_spent_Small_value_payments</td>\n",
       "      <td>147.67137163088418</td>\n",
       "      <td>Standard</td>\n",
       "    </tr>\n",
       "    <tr>\n",
       "      <th>99955</th>\n",
       "      <td>0x25fad</td>\n",
       "      <td>CUS_0x2084</td>\n",
       "      <td>Architect</td>\n",
       "      <td>38321.39</td>\n",
       "      <td>NaN</td>\n",
       "      <td>4</td>\n",
       "      <td>11</td>\n",
       "      <td>7</td>\n",
       "      <td>678.57</td>\n",
       "      <td>17 Years and 2 Months</td>\n",
       "      <td>No</td>\n",
       "      <td>362.072453</td>\n",
       "      <td>Low_spent_Large_value_payments</td>\n",
       "      <td>197.46057710771268</td>\n",
       "      <td>Standard</td>\n",
       "    </tr>\n",
       "    <tr>\n",
       "      <th>99963</th>\n",
       "      <td>0x25fb9</td>\n",
       "      <td>CUS_0x372c</td>\n",
       "      <td>Lawyer</td>\n",
       "      <td>42903.79</td>\n",
       "      <td>NaN</td>\n",
       "      <td>1</td>\n",
       "      <td>14</td>\n",
       "      <td>0</td>\n",
       "      <td>1079.48</td>\n",
       "      <td>NaN</td>\n",
       "      <td>No</td>\n",
       "      <td>34.975457</td>\n",
       "      <td>High_spent_Large_value_payments</td>\n",
       "      <td>520.6622073726148</td>\n",
       "      <td>Standard</td>\n",
       "    </tr>\n",
       "    <tr>\n",
       "      <th>99975</th>\n",
       "      <td>0x25fc9</td>\n",
       "      <td>CUS_0xf16</td>\n",
       "      <td>Media_Manager</td>\n",
       "      <td>16680.35</td>\n",
       "      <td>NaN</td>\n",
       "      <td>4</td>\n",
       "      <td>1</td>\n",
       "      <td>0</td>\n",
       "      <td>897.16</td>\n",
       "      <td>NaN</td>\n",
       "      <td>No</td>\n",
       "      <td>41.113561</td>\n",
       "      <td>Low_spent_Large_value_payments</td>\n",
       "      <td>310.8838062920152</td>\n",
       "      <td>Good</td>\n",
       "    </tr>\n",
       "    <tr>\n",
       "      <th>99978</th>\n",
       "      <td>0x25fd0</td>\n",
       "      <td>CUS_0xaf61</td>\n",
       "      <td>Writer</td>\n",
       "      <td>37188.1</td>\n",
       "      <td>NaN</td>\n",
       "      <td>3</td>\n",
       "      <td>4</td>\n",
       "      <td>11</td>\n",
       "      <td>620.64</td>\n",
       "      <td>29 Years and 11 Months</td>\n",
       "      <td>No</td>\n",
       "      <td>84.205949</td>\n",
       "      <td>Low_spent_Medium_value_payments</td>\n",
       "      <td>379.5382921738518</td>\n",
       "      <td>Good</td>\n",
       "    </tr>\n",
       "  </tbody>\n",
       "</table>\n",
       "<p>15002 rows × 15 columns</p>\n",
       "</div>"
      ],
      "text/plain": [
       "            ID Customer_ID     Occupation Annual_Income  \\\n",
       "1       0x1603   CUS_0xd40      Scientist      19114.12   \n",
       "2       0x1604   CUS_0xd40      Scientist      19114.12   \n",
       "3       0x1605   CUS_0xd40      Scientist      19114.12   \n",
       "5       0x1607   CUS_0xd40      Scientist      19114.12   \n",
       "11      0x1611  CUS_0x21b1        Teacher      34847.84   \n",
       "...        ...         ...            ...           ...   \n",
       "99944  0x25f9e  CUS_0x51b3  Media_Manager      59146.36   \n",
       "99955  0x25fad  CUS_0x2084      Architect      38321.39   \n",
       "99963  0x25fb9  CUS_0x372c         Lawyer      42903.79   \n",
       "99975  0x25fc9   CUS_0xf16  Media_Manager      16680.35   \n",
       "99978  0x25fd0  CUS_0xaf61         Writer       37188.1   \n",
       "\n",
       "       Monthly_Inhand_Salary Num_of_Loan  Delay_from_due_date  \\\n",
       "1                        NaN           4                   -1   \n",
       "2                        NaN           4                    3   \n",
       "3                        NaN           4                    5   \n",
       "5                        NaN           4                    8   \n",
       "11                       NaN           1                    3   \n",
       "...                      ...         ...                  ...   \n",
       "99944                    NaN           1                    8   \n",
       "99955                    NaN           4                   11   \n",
       "99963                    NaN           1                   14   \n",
       "99975                    NaN           4                    1   \n",
       "99978                    NaN           3                    4   \n",
       "\n",
       "      Num_of_Delayed_Payment Outstanding_Debt      Credit_History_Age  \\\n",
       "1                        NaN           809.98                     NaN   \n",
       "2                          7           809.98   22 Years and 3 Months   \n",
       "3                          4           809.98   22 Years and 4 Months   \n",
       "5                          4           809.98   22 Years and 6 Months   \n",
       "11                        3_           605.03  26 Years and 10 Months   \n",
       "...                      ...              ...                     ...   \n",
       "99944                      6           418.03                     NaN   \n",
       "99955                      7           678.57   17 Years and 2 Months   \n",
       "99963                      0          1079.48                     NaN   \n",
       "99975                      0           897.16                     NaN   \n",
       "99978                     11           620.64  29 Years and 11 Months   \n",
       "\n",
       "      Payment_of_Min_Amount  Total_EMI_per_month  \\\n",
       "1                        No            49.574949   \n",
       "2                        No            49.574949   \n",
       "3                        No            49.574949   \n",
       "5                        No            49.574949   \n",
       "11                       No            18.816215   \n",
       "...                     ...                  ...   \n",
       "99944                    No            26.778419   \n",
       "99955                    No           362.072453   \n",
       "99963                    No            34.975457   \n",
       "99975                    No            41.113561   \n",
       "99978                    No            84.205949   \n",
       "\n",
       "                     Payment_Behaviour     Monthly_Balance Credit_Score  \n",
       "1       Low_spent_Large_value_payments  284.62916249607184         Good  \n",
       "2      Low_spent_Medium_value_payments   331.2098628537912         Good  \n",
       "3       Low_spent_Small_value_payments  223.45130972736786         Good  \n",
       "5                               !@9#%8   340.4792117872438         Good  \n",
       "11     Low_spent_Medium_value_payments   465.6762241330048         Good  \n",
       "...                                ...                 ...          ...  \n",
       "99944   Low_spent_Small_value_payments  147.67137163088418     Standard  \n",
       "99955   Low_spent_Large_value_payments  197.46057710771268     Standard  \n",
       "99963  High_spent_Large_value_payments   520.6622073726148     Standard  \n",
       "99975   Low_spent_Large_value_payments   310.8838062920152         Good  \n",
       "99978  Low_spent_Medium_value_payments   379.5382921738518         Good  \n",
       "\n",
       "[15002 rows x 15 columns]"
      ]
     },
     "execution_count": 12,
     "metadata": {},
     "output_type": "execute_result"
    }
   ],
   "source": [
    "null_mask = final_dataset[\"Monthly_Inhand_Salary\"].isnull()\n",
    "null_mask\n",
    "final_dataset[null_mask]"
   ]
  },
  {
   "cell_type": "code",
   "execution_count": 14,
   "metadata": {},
   "outputs": [],
   "source": [
    "grouped_df = final_dataset.groupby(\"Customer_ID\")"
   ]
  },
  {
   "cell_type": "code",
   "execution_count": 19,
   "metadata": {},
   "outputs": [
    {
     "name": "stdout",
     "output_type": "stream",
     "text": [
      "Customer_ID\n",
      "CUS_0x1000    7\n",
      "CUS_0x1009    8\n",
      "CUS_0x100b    7\n",
      "CUS_0x1011    7\n",
      "CUS_0x1013    5\n",
      "             ..\n",
      "CUS_0xff3     7\n",
      "CUS_0xff4     7\n",
      "CUS_0xff6     8\n",
      "CUS_0xffc     8\n",
      "CUS_0xffd     7\n",
      "Name: Monthly_Inhand_Salary, Length: 12500, dtype: int64\n"
     ]
    }
   ],
   "source": [
    "print(grouped_df[\"Monthly_Inhand_Salary\"].count())"
   ]
  },
  {
   "cell_type": "markdown",
   "metadata": {},
   "source": [
    "**Observation**\n",
    "* Totally 15002 entries has null values for the Monthly_Inhand_Salary\n",
    "* Out of 100000 , we have 12500 Unique Customer_ID\n",
    "* Need to impute the Missing Values for the 15002 Entries"
   ]
  },
  {
   "cell_type": "markdown",
   "metadata": {
    "id": "-W10ebACbNLj"
   },
   "source": [
    "### Deal with the missing values of Monthly_Inhand_Salary columns"
   ]
  },
  {
   "cell_type": "code",
   "execution_count": 20,
   "metadata": {
    "id": "8UhB7cE7tHgI"
   },
   "outputs": [],
   "source": [
    "# Convert the Customer_ID column to a factor\n",
    "final_dataset['Customer_ID'] = final_dataset['Customer_ID'].astype('category')\n",
    "\n",
    "# Calculate the median Inhand Salary by customer using groupby and summarize\n",
    "median_Inhand_salary_by_customer = final_dataset.groupby('Customer_ID').agg(median_salary=('Monthly_Inhand_Salary', 'median'))\n",
    "\n",
    "# Join the median salary column to the dataset\n",
    "final_dataset = pd.merge(final_dataset, median_Inhand_salary_by_customer, on='Customer_ID', how='left')\n",
    "\n",
    "# Replace missing values in Monthly Inhand Salary column with median salary\n",
    "final_dataset['Monthly_Inhand_Salary'].fillna(final_dataset['median_salary'], inplace=True)\n",
    "\n",
    "# Drop the median salary column\n",
    "final_dataset.drop('median_salary', axis=1, inplace=True)\n"
   ]
  },
  {
   "cell_type": "code",
   "execution_count": 21,
   "metadata": {},
   "outputs": [
    {
     "data": {
      "text/html": [
       "<div>\n",
       "<style scoped>\n",
       "    .dataframe tbody tr th:only-of-type {\n",
       "        vertical-align: middle;\n",
       "    }\n",
       "\n",
       "    .dataframe tbody tr th {\n",
       "        vertical-align: top;\n",
       "    }\n",
       "\n",
       "    .dataframe thead th {\n",
       "        text-align: right;\n",
       "    }\n",
       "</style>\n",
       "<table border=\"1\" class=\"dataframe\">\n",
       "  <thead>\n",
       "    <tr style=\"text-align: right;\">\n",
       "      <th></th>\n",
       "      <th>median_salary</th>\n",
       "    </tr>\n",
       "    <tr>\n",
       "      <th>Customer_ID</th>\n",
       "      <th></th>\n",
       "    </tr>\n",
       "  </thead>\n",
       "  <tbody>\n",
       "    <tr>\n",
       "      <th>CUS_0x1000</th>\n",
       "      <td>2706.161667</td>\n",
       "    </tr>\n",
       "    <tr>\n",
       "      <th>CUS_0x1009</th>\n",
       "      <td>4250.390000</td>\n",
       "    </tr>\n",
       "    <tr>\n",
       "      <th>CUS_0x100b</th>\n",
       "      <td>9549.782500</td>\n",
       "    </tr>\n",
       "    <tr>\n",
       "      <th>CUS_0x1011</th>\n",
       "      <td>5208.872500</td>\n",
       "    </tr>\n",
       "    <tr>\n",
       "      <th>CUS_0x1013</th>\n",
       "      <td>7962.415000</td>\n",
       "    </tr>\n",
       "    <tr>\n",
       "      <th>...</th>\n",
       "      <td>...</td>\n",
       "    </tr>\n",
       "    <tr>\n",
       "      <th>CUS_0xff3</th>\n",
       "      <td>1176.398750</td>\n",
       "    </tr>\n",
       "    <tr>\n",
       "      <th>CUS_0xff4</th>\n",
       "      <td>2415.855000</td>\n",
       "    </tr>\n",
       "    <tr>\n",
       "      <th>CUS_0xff6</th>\n",
       "      <td>9727.326667</td>\n",
       "    </tr>\n",
       "    <tr>\n",
       "      <th>CUS_0xffc</th>\n",
       "      <td>5218.097500</td>\n",
       "    </tr>\n",
       "    <tr>\n",
       "      <th>CUS_0xffd</th>\n",
       "      <td>3749.870000</td>\n",
       "    </tr>\n",
       "  </tbody>\n",
       "</table>\n",
       "<p>12500 rows × 1 columns</p>\n",
       "</div>"
      ],
      "text/plain": [
       "             median_salary\n",
       "Customer_ID               \n",
       "CUS_0x1000     2706.161667\n",
       "CUS_0x1009     4250.390000\n",
       "CUS_0x100b     9549.782500\n",
       "CUS_0x1011     5208.872500\n",
       "CUS_0x1013     7962.415000\n",
       "...                    ...\n",
       "CUS_0xff3      1176.398750\n",
       "CUS_0xff4      2415.855000\n",
       "CUS_0xff6      9727.326667\n",
       "CUS_0xffc      5218.097500\n",
       "CUS_0xffd      3749.870000\n",
       "\n",
       "[12500 rows x 1 columns]"
      ]
     },
     "execution_count": 21,
     "metadata": {},
     "output_type": "execute_result"
    }
   ],
   "source": [
    "median_Inhand_salary_by_customer"
   ]
  },
  {
   "cell_type": "code",
   "execution_count": 22,
   "metadata": {},
   "outputs": [
    {
     "name": "stdout",
     "output_type": "stream",
     "text": [
      "<class 'pandas.core.frame.DataFrame'>\n",
      "CategoricalIndex: 12500 entries, CUS_0x1000 to CUS_0xffd\n",
      "Data columns (total 1 columns):\n",
      " #   Column         Non-Null Count  Dtype  \n",
      "---  ------         --------------  -----  \n",
      " 0   median_salary  12500 non-null  float64\n",
      "dtypes: float64(1)\n",
      "memory usage: 477.8 KB\n"
     ]
    }
   ],
   "source": [
    "median_Inhand_salary_by_customer.info()"
   ]
  },
  {
   "cell_type": "code",
   "execution_count": 23,
   "metadata": {},
   "outputs": [
    {
     "data": {
      "text/html": [
       "<div>\n",
       "<style scoped>\n",
       "    .dataframe tbody tr th:only-of-type {\n",
       "        vertical-align: middle;\n",
       "    }\n",
       "\n",
       "    .dataframe tbody tr th {\n",
       "        vertical-align: top;\n",
       "    }\n",
       "\n",
       "    .dataframe thead th {\n",
       "        text-align: right;\n",
       "    }\n",
       "</style>\n",
       "<table border=\"1\" class=\"dataframe\">\n",
       "  <thead>\n",
       "    <tr style=\"text-align: right;\">\n",
       "      <th></th>\n",
       "      <th>median_salary</th>\n",
       "    </tr>\n",
       "  </thead>\n",
       "  <tbody>\n",
       "    <tr>\n",
       "      <th>count</th>\n",
       "      <td>12500.000000</td>\n",
       "    </tr>\n",
       "    <tr>\n",
       "      <th>mean</th>\n",
       "      <td>4198.390362</td>\n",
       "    </tr>\n",
       "    <tr>\n",
       "      <th>std</th>\n",
       "      <td>3187.681114</td>\n",
       "    </tr>\n",
       "    <tr>\n",
       "      <th>min</th>\n",
       "      <td>303.645417</td>\n",
       "    </tr>\n",
       "    <tr>\n",
       "      <th>25%</th>\n",
       "      <td>1626.719792</td>\n",
       "    </tr>\n",
       "    <tr>\n",
       "      <th>50%</th>\n",
       "      <td>3094.825000</td>\n",
       "    </tr>\n",
       "    <tr>\n",
       "      <th>75%</th>\n",
       "      <td>5961.664375</td>\n",
       "    </tr>\n",
       "    <tr>\n",
       "      <th>max</th>\n",
       "      <td>15204.633333</td>\n",
       "    </tr>\n",
       "  </tbody>\n",
       "</table>\n",
       "</div>"
      ],
      "text/plain": [
       "       median_salary\n",
       "count   12500.000000\n",
       "mean     4198.390362\n",
       "std      3187.681114\n",
       "min       303.645417\n",
       "25%      1626.719792\n",
       "50%      3094.825000\n",
       "75%      5961.664375\n",
       "max     15204.633333"
      ]
     },
     "execution_count": 23,
     "metadata": {},
     "output_type": "execute_result"
    }
   ],
   "source": [
    "median_Inhand_salary_by_customer.describe()"
   ]
  },
  {
   "cell_type": "code",
   "execution_count": 32,
   "metadata": {},
   "outputs": [
    {
     "data": {
      "text/plain": [
       "count    100000.000000\n",
       "mean       4198.490149\n",
       "std        3187.491752\n",
       "min         303.645417\n",
       "25%        1626.761667\n",
       "50%        3095.978333\n",
       "75%        5961.637500\n",
       "max       15204.633333\n",
       "Name: Monthly_Inhand_Salary, dtype: float64"
      ]
     },
     "execution_count": 32,
     "metadata": {},
     "output_type": "execute_result"
    }
   ],
   "source": [
    "final_dataset[\"Monthly_Inhand_Salary\"].describe()"
   ]
  },
  {
   "cell_type": "code",
   "execution_count": 24,
   "metadata": {
    "colab": {
     "base_uri": "https://localhost:8080/"
    },
    "id": "PGq3ebiFb2aO",
    "outputId": "7adafebf-6134-42cf-99ee-10fddec35987"
   },
   "outputs": [
    {
     "name": "stdout",
     "output_type": "stream",
     "text": [
      "<class 'pandas.core.frame.DataFrame'>\n",
      "Int64Index: 100000 entries, 0 to 99999\n",
      "Data columns (total 15 columns):\n",
      " #   Column                  Non-Null Count   Dtype   \n",
      "---  ------                  --------------   -----   \n",
      " 0   ID                      100000 non-null  object  \n",
      " 1   Customer_ID             100000 non-null  category\n",
      " 2   Occupation              100000 non-null  object  \n",
      " 3   Annual_Income           100000 non-null  object  \n",
      " 4   Monthly_Inhand_Salary   100000 non-null  float64 \n",
      " 5   Num_of_Loan             100000 non-null  object  \n",
      " 6   Delay_from_due_date     100000 non-null  int64   \n",
      " 7   Num_of_Delayed_Payment  92998 non-null   object  \n",
      " 8   Outstanding_Debt        100000 non-null  object  \n",
      " 9   Credit_History_Age      90970 non-null   object  \n",
      " 10  Payment_of_Min_Amount   100000 non-null  object  \n",
      " 11  Total_EMI_per_month     100000 non-null  float64 \n",
      " 12  Payment_Behaviour       100000 non-null  object  \n",
      " 13  Monthly_Balance         98800 non-null   object  \n",
      " 14  Credit_Score            100000 non-null  object  \n",
      "dtypes: category(1), float64(2), int64(1), object(11)\n",
      "memory usage: 12.0+ MB\n"
     ]
    }
   ],
   "source": [
    "final_dataset.info()"
   ]
  },
  {
   "cell_type": "markdown",
   "metadata": {
    "id": "zXL06H1-cENL"
   },
   "source": [
    "### Deal with the missing values and '_' of Num_of_Delayed_Payment "
   ]
  },
  {
   "cell_type": "code",
   "execution_count": 31,
   "metadata": {},
   "outputs": [
    {
     "data": {
      "text/html": [
       "<div>\n",
       "<style scoped>\n",
       "    .dataframe tbody tr th:only-of-type {\n",
       "        vertical-align: middle;\n",
       "    }\n",
       "\n",
       "    .dataframe tbody tr th {\n",
       "        vertical-align: top;\n",
       "    }\n",
       "\n",
       "    .dataframe thead th {\n",
       "        text-align: right;\n",
       "    }\n",
       "</style>\n",
       "<table border=\"1\" class=\"dataframe\">\n",
       "  <thead>\n",
       "    <tr style=\"text-align: right;\">\n",
       "      <th></th>\n",
       "      <th>ID</th>\n",
       "      <th>Customer_ID</th>\n",
       "      <th>Occupation</th>\n",
       "      <th>Annual_Income</th>\n",
       "      <th>Monthly_Inhand_Salary</th>\n",
       "      <th>Num_of_Loan</th>\n",
       "      <th>Delay_from_due_date</th>\n",
       "      <th>Num_of_Delayed_Payment</th>\n",
       "      <th>Outstanding_Debt</th>\n",
       "      <th>Credit_History_Age</th>\n",
       "      <th>Payment_of_Min_Amount</th>\n",
       "      <th>Total_EMI_per_month</th>\n",
       "      <th>Payment_Behaviour</th>\n",
       "      <th>Monthly_Balance</th>\n",
       "      <th>Credit_Score</th>\n",
       "    </tr>\n",
       "  </thead>\n",
       "  <tbody>\n",
       "    <tr>\n",
       "      <th>1</th>\n",
       "      <td>0x1603</td>\n",
       "      <td>CUS_0xd40</td>\n",
       "      <td>Scientist</td>\n",
       "      <td>19114.12</td>\n",
       "      <td>1824.843333</td>\n",
       "      <td>4</td>\n",
       "      <td>-1</td>\n",
       "      <td>NaN</td>\n",
       "      <td>809.98</td>\n",
       "      <td>NaN</td>\n",
       "      <td>No</td>\n",
       "      <td>49.574949</td>\n",
       "      <td>Low_spent_Large_value_payments</td>\n",
       "      <td>284.62916249607184</td>\n",
       "      <td>Good</td>\n",
       "    </tr>\n",
       "    <tr>\n",
       "      <th>4</th>\n",
       "      <td>0x1606</td>\n",
       "      <td>CUS_0xd40</td>\n",
       "      <td>Scientist</td>\n",
       "      <td>19114.12</td>\n",
       "      <td>1824.843333</td>\n",
       "      <td>4</td>\n",
       "      <td>6</td>\n",
       "      <td>NaN</td>\n",
       "      <td>809.98</td>\n",
       "      <td>22 Years and 5 Months</td>\n",
       "      <td>No</td>\n",
       "      <td>49.574949</td>\n",
       "      <td>High_spent_Medium_value_payments</td>\n",
       "      <td>341.48923103222177</td>\n",
       "      <td>Good</td>\n",
       "    </tr>\n",
       "    <tr>\n",
       "      <th>30</th>\n",
       "      <td>0x162c</td>\n",
       "      <td>CUS_0xb891</td>\n",
       "      <td>Entrepreneur</td>\n",
       "      <td>30689.89</td>\n",
       "      <td>2612.490833</td>\n",
       "      <td>1</td>\n",
       "      <td>5</td>\n",
       "      <td>NaN</td>\n",
       "      <td>632.46</td>\n",
       "      <td>17 Years and 9 Months</td>\n",
       "      <td>No</td>\n",
       "      <td>16.415452</td>\n",
       "      <td>Low_spent_Large_value_payments</td>\n",
       "      <td>443.5499567906391</td>\n",
       "      <td>Standard</td>\n",
       "    </tr>\n",
       "    <tr>\n",
       "      <th>32</th>\n",
       "      <td>0x1632</td>\n",
       "      <td>CUS_0x1cdb</td>\n",
       "      <td>Developer</td>\n",
       "      <td>35547.71_</td>\n",
       "      <td>2853.309167</td>\n",
       "      <td>0</td>\n",
       "      <td>5</td>\n",
       "      <td>NaN</td>\n",
       "      <td>943.86</td>\n",
       "      <td>30 Years and 8 Months</td>\n",
       "      <td>Yes</td>\n",
       "      <td>0.000000</td>\n",
       "      <td>!@9#%8</td>\n",
       "      <td>288.60552234930395</td>\n",
       "      <td>Standard</td>\n",
       "    </tr>\n",
       "    <tr>\n",
       "      <th>33</th>\n",
       "      <td>0x1633</td>\n",
       "      <td>CUS_0x1cdb</td>\n",
       "      <td>Developer</td>\n",
       "      <td>35547.71</td>\n",
       "      <td>2853.309167</td>\n",
       "      <td>0</td>\n",
       "      <td>9</td>\n",
       "      <td>NaN</td>\n",
       "      <td>943.86</td>\n",
       "      <td>30 Years and 9 Months</td>\n",
       "      <td>NM</td>\n",
       "      <td>0.000000</td>\n",
       "      <td>High_spent_Medium_value_payments</td>\n",
       "      <td>460.88727561667037</td>\n",
       "      <td>Standard</td>\n",
       "    </tr>\n",
       "    <tr>\n",
       "      <th>...</th>\n",
       "      <td>...</td>\n",
       "      <td>...</td>\n",
       "      <td>...</td>\n",
       "      <td>...</td>\n",
       "      <td>...</td>\n",
       "      <td>...</td>\n",
       "      <td>...</td>\n",
       "      <td>...</td>\n",
       "      <td>...</td>\n",
       "      <td>...</td>\n",
       "      <td>...</td>\n",
       "      <td>...</td>\n",
       "      <td>...</td>\n",
       "      <td>...</td>\n",
       "      <td>...</td>\n",
       "    </tr>\n",
       "    <tr>\n",
       "      <th>99973</th>\n",
       "      <td>0x25fc7</td>\n",
       "      <td>CUS_0xf16</td>\n",
       "      <td>Media_Manager</td>\n",
       "      <td>16680.35</td>\n",
       "      <td>1528.029167</td>\n",
       "      <td>4</td>\n",
       "      <td>1</td>\n",
       "      <td>NaN</td>\n",
       "      <td>897.16</td>\n",
       "      <td>21 Years and 6 Months</td>\n",
       "      <td>No</td>\n",
       "      <td>41.113561</td>\n",
       "      <td>Low_spent_Small_value_payments</td>\n",
       "      <td>233.3015390325111</td>\n",
       "      <td>Good</td>\n",
       "    </tr>\n",
       "    <tr>\n",
       "      <th>99974</th>\n",
       "      <td>0x25fc8</td>\n",
       "      <td>CUS_0xf16</td>\n",
       "      <td>Media_Manager</td>\n",
       "      <td>16680.35_</td>\n",
       "      <td>1528.029167</td>\n",
       "      <td>4</td>\n",
       "      <td>1</td>\n",
       "      <td>NaN</td>\n",
       "      <td>897.16</td>\n",
       "      <td>21 Years and 7 Months</td>\n",
       "      <td>No</td>\n",
       "      <td>41.113561</td>\n",
       "      <td>Low_spent_Small_value_payments</td>\n",
       "      <td>340.68483402219437</td>\n",
       "      <td>Good</td>\n",
       "    </tr>\n",
       "    <tr>\n",
       "      <th>99992</th>\n",
       "      <td>0x25fe6</td>\n",
       "      <td>CUS_0x942c</td>\n",
       "      <td>Mechanic</td>\n",
       "      <td>39628.99</td>\n",
       "      <td>3359.415833</td>\n",
       "      <td>2</td>\n",
       "      <td>23</td>\n",
       "      <td>NaN</td>\n",
       "      <td>502.38</td>\n",
       "      <td>31 Years and 3 Months</td>\n",
       "      <td>No</td>\n",
       "      <td>35.104023</td>\n",
       "      <td>Low_spent_Small_value_payments</td>\n",
       "      <td>189.64108011929028</td>\n",
       "      <td>Poor</td>\n",
       "    </tr>\n",
       "    <tr>\n",
       "      <th>99993</th>\n",
       "      <td>0x25fe7</td>\n",
       "      <td>CUS_0x942c</td>\n",
       "      <td>Mechanic</td>\n",
       "      <td>39628.99_</td>\n",
       "      <td>3359.415833</td>\n",
       "      <td>2</td>\n",
       "      <td>23</td>\n",
       "      <td>NaN</td>\n",
       "      <td>502.38</td>\n",
       "      <td>31 Years and 4 Months</td>\n",
       "      <td>No</td>\n",
       "      <td>58638.000000</td>\n",
       "      <td>Low_spent_Medium_value_payments</td>\n",
       "      <td>400.1044655284761</td>\n",
       "      <td>Standard</td>\n",
       "    </tr>\n",
       "    <tr>\n",
       "      <th>99998</th>\n",
       "      <td>0x25fec</td>\n",
       "      <td>CUS_0x942c</td>\n",
       "      <td>Mechanic</td>\n",
       "      <td>39628.99</td>\n",
       "      <td>3359.415833</td>\n",
       "      <td>2</td>\n",
       "      <td>20</td>\n",
       "      <td>NaN</td>\n",
       "      <td>502.38</td>\n",
       "      <td>31 Years and 9 Months</td>\n",
       "      <td>No</td>\n",
       "      <td>35.104023</td>\n",
       "      <td>Low_spent_Large_value_payments</td>\n",
       "      <td>319.1649785257098</td>\n",
       "      <td>Standard</td>\n",
       "    </tr>\n",
       "  </tbody>\n",
       "</table>\n",
       "<p>7002 rows × 15 columns</p>\n",
       "</div>"
      ],
      "text/plain": [
       "            ID Customer_ID     Occupation Annual_Income  \\\n",
       "1       0x1603   CUS_0xd40      Scientist      19114.12   \n",
       "4       0x1606   CUS_0xd40      Scientist      19114.12   \n",
       "30      0x162c  CUS_0xb891   Entrepreneur      30689.89   \n",
       "32      0x1632  CUS_0x1cdb      Developer     35547.71_   \n",
       "33      0x1633  CUS_0x1cdb      Developer      35547.71   \n",
       "...        ...         ...            ...           ...   \n",
       "99973  0x25fc7   CUS_0xf16  Media_Manager      16680.35   \n",
       "99974  0x25fc8   CUS_0xf16  Media_Manager     16680.35_   \n",
       "99992  0x25fe6  CUS_0x942c       Mechanic      39628.99   \n",
       "99993  0x25fe7  CUS_0x942c       Mechanic     39628.99_   \n",
       "99998  0x25fec  CUS_0x942c       Mechanic      39628.99   \n",
       "\n",
       "       Monthly_Inhand_Salary Num_of_Loan  Delay_from_due_date  \\\n",
       "1                1824.843333           4                   -1   \n",
       "4                1824.843333           4                    6   \n",
       "30               2612.490833           1                    5   \n",
       "32               2853.309167           0                    5   \n",
       "33               2853.309167           0                    9   \n",
       "...                      ...         ...                  ...   \n",
       "99973            1528.029167           4                    1   \n",
       "99974            1528.029167           4                    1   \n",
       "99992            3359.415833           2                   23   \n",
       "99993            3359.415833           2                   23   \n",
       "99998            3359.415833           2                   20   \n",
       "\n",
       "      Num_of_Delayed_Payment Outstanding_Debt     Credit_History_Age  \\\n",
       "1                        NaN           809.98                    NaN   \n",
       "4                        NaN           809.98  22 Years and 5 Months   \n",
       "30                       NaN           632.46  17 Years and 9 Months   \n",
       "32                       NaN           943.86  30 Years and 8 Months   \n",
       "33                       NaN           943.86  30 Years and 9 Months   \n",
       "...                      ...              ...                    ...   \n",
       "99973                    NaN           897.16  21 Years and 6 Months   \n",
       "99974                    NaN           897.16  21 Years and 7 Months   \n",
       "99992                    NaN           502.38  31 Years and 3 Months   \n",
       "99993                    NaN           502.38  31 Years and 4 Months   \n",
       "99998                    NaN           502.38  31 Years and 9 Months   \n",
       "\n",
       "      Payment_of_Min_Amount  Total_EMI_per_month  \\\n",
       "1                        No            49.574949   \n",
       "4                        No            49.574949   \n",
       "30                       No            16.415452   \n",
       "32                      Yes             0.000000   \n",
       "33                       NM             0.000000   \n",
       "...                     ...                  ...   \n",
       "99973                    No            41.113561   \n",
       "99974                    No            41.113561   \n",
       "99992                    No            35.104023   \n",
       "99993                    No         58638.000000   \n",
       "99998                    No            35.104023   \n",
       "\n",
       "                      Payment_Behaviour     Monthly_Balance Credit_Score  \n",
       "1        Low_spent_Large_value_payments  284.62916249607184         Good  \n",
       "4      High_spent_Medium_value_payments  341.48923103222177         Good  \n",
       "30       Low_spent_Large_value_payments   443.5499567906391     Standard  \n",
       "32                               !@9#%8  288.60552234930395     Standard  \n",
       "33     High_spent_Medium_value_payments  460.88727561667037     Standard  \n",
       "...                                 ...                 ...          ...  \n",
       "99973    Low_spent_Small_value_payments   233.3015390325111         Good  \n",
       "99974    Low_spent_Small_value_payments  340.68483402219437         Good  \n",
       "99992    Low_spent_Small_value_payments  189.64108011929028         Poor  \n",
       "99993   Low_spent_Medium_value_payments   400.1044655284761     Standard  \n",
       "99998    Low_spent_Large_value_payments   319.1649785257098     Standard  \n",
       "\n",
       "[7002 rows x 15 columns]"
      ]
     },
     "execution_count": 31,
     "metadata": {},
     "output_type": "execute_result"
    }
   ],
   "source": [
    "null_mask_1 = final_dataset[\"Num_of_Delayed_Payment\"].isnull()\n",
    "null_mask_1\n",
    "final_dataset[null_mask_1]"
   ]
  },
  {
   "cell_type": "code",
   "execution_count": 33,
   "metadata": {},
   "outputs": [
    {
     "data": {
      "text/plain": [
       "count     92998\n",
       "unique      749\n",
       "top          19\n",
       "freq       5327\n",
       "Name: Num_of_Delayed_Payment, dtype: object"
      ]
     },
     "execution_count": 33,
     "metadata": {},
     "output_type": "execute_result"
    }
   ],
   "source": [
    "final_dataset[\"Num_of_Delayed_Payment\"].describe()"
   ]
  },
  {
   "cell_type": "code",
   "execution_count": 34,
   "metadata": {
    "id": "vSxNo3K3wveS"
   },
   "outputs": [],
   "source": [
    "# replace the '_' with ''\n",
    "final_dataset['Num_of_Delayed_Payment'] = final_dataset['Num_of_Delayed_Payment'].replace('_', '', regex=True)\n",
    "\n",
    "# convert to numeric\n",
    "final_dataset['Num_of_Delayed_Payment'] = final_dataset['Num_of_Delayed_Payment'].astype(float)"
   ]
  },
  {
   "cell_type": "code",
   "execution_count": 35,
   "metadata": {},
   "outputs": [
    {
     "data": {
      "text/plain": [
       "count    92998.000000\n",
       "mean        30.923342\n",
       "std        226.031892\n",
       "min         -3.000000\n",
       "25%          9.000000\n",
       "50%         14.000000\n",
       "75%         18.000000\n",
       "max       4397.000000\n",
       "Name: Num_of_Delayed_Payment, dtype: float64"
      ]
     },
     "execution_count": 35,
     "metadata": {},
     "output_type": "execute_result"
    }
   ],
   "source": [
    "final_dataset[\"Num_of_Delayed_Payment\"].describe()"
   ]
  },
  {
   "cell_type": "markdown",
   "metadata": {},
   "source": [
    "**Observation**\n",
    "\n",
    "* Totally 7002 entries has null values for the Num_of_Delayed_Payment\n",
    "* We could see Negative Values ()\n",
    "* Need to impute the Missing Values for the 7002 Entries"
   ]
  },
  {
   "cell_type": "code",
   "execution_count": null,
   "metadata": {
    "id": "P3WwXscB1QkU"
   },
   "outputs": [],
   "source": [
    "# Calculate the median delayed payments by customer using groupby and summarize\n",
    "median_delayed_by_customer = final_dataset.groupby('Customer_ID').agg(median_delayed=('Num_of_Delayed_Payment', 'median'))\n",
    "\n",
    "# Join the median delayed payments column to the dataset\n",
    "final_dataset = pd.merge(final_dataset, median_delayed_by_customer, on='Customer_ID', how='left')\n",
    "\n",
    "# Replace missing values in Num of Delayed Payment column with median delayed payments\n",
    "final_dataset['Num_of_Delayed_Payment'].fillna(final_dataset['median_delayed'], inplace=True)\n",
    "\n",
    "\n",
    "# Drop the median delayed payments column\n",
    "final_dataset.drop('median_delayed', axis=1, inplace=True)"
   ]
  },
  {
   "cell_type": "code",
   "execution_count": null,
   "metadata": {
    "colab": {
     "base_uri": "https://localhost:8080/"
    },
    "id": "ijfKVK6MdB0i",
    "outputId": "34f36f4d-29e4-4b27-8d6b-d0be4d206537"
   },
   "outputs": [],
   "source": [
    "final_dataset.info()"
   ]
  },
  {
   "cell_type": "markdown",
   "metadata": {
    "id": "Q4QfJF-Ge-Hn"
   },
   "source": [
    "### Deal with the missing values and '_' of Monthly_Balance"
   ]
  },
  {
   "cell_type": "code",
   "execution_count": null,
   "metadata": {
    "id": "BnX0T--tfHzw"
   },
   "outputs": [],
   "source": [
    "# replace the '_' with ''\n",
    "final_dataset['Monthly_Balance'] = final_dataset['Monthly_Balance'].replace('_', '', regex=True)\n",
    "# convert to numeric\n",
    "final_dataset['Monthly_Balance'] = final_dataset['Monthly_Balance'].astype(float)"
   ]
  },
  {
   "cell_type": "code",
   "execution_count": null,
   "metadata": {
    "id": "KmdsW3sXga_M"
   },
   "outputs": [],
   "source": [
    "# Calculate the median delayed payments by customer using groupby and summarize\n",
    "median_Monthly_Balance_customer = final_dataset.groupby('Customer_ID').agg(median_Monthly_Balance=('Monthly_Balance', 'median'))\n",
    "\n",
    "# Join the median delayed payments column to the dataset\n",
    "final_dataset = pd.merge(final_dataset, median_Monthly_Balance_customer, on='Customer_ID', how='left')\n",
    "\n",
    "# Replace missing values in Num of Delayed Payment column with median delayed payments\n",
    "final_dataset['Monthly_Balance'].fillna(final_dataset['median_Monthly_Balance'], inplace=True)\n",
    "\n",
    "# Drop the median delayed payments column\n",
    "final_dataset.drop('median_Monthly_Balance', axis=1, inplace=True)"
   ]
  },
  {
   "cell_type": "code",
   "execution_count": null,
   "metadata": {},
   "outputs": [],
   "source": [
    "final_dataset.head()"
   ]
  },
  {
   "cell_type": "code",
   "execution_count": null,
   "metadata": {
    "colab": {
     "base_uri": "https://localhost:8080/"
    },
    "id": "pSWxGygOg4VO",
    "outputId": "63de2ba4-4dc1-4040-986e-6c90a1ddaa68"
   },
   "outputs": [],
   "source": [
    "final_dataset.info()"
   ]
  },
  {
   "cell_type": "markdown",
   "metadata": {
    "id": "teAF5wzxjWoj"
   },
   "source": [
    "### Dealing with the missing value in Credit_History_Age column"
   ]
  },
  {
   "cell_type": "code",
   "execution_count": null,
   "metadata": {
    "id": "X6a16LfOjm5t"
   },
   "outputs": [],
   "source": [
    "# Define function to convert string to number of months\n",
    "def convert_to_months(s):\n",
    "    # If value is null or empty, return default value 0\n",
    "    if pd.isna(s) or s.strip() == \"\":\n",
    "        return 0\n",
    "    # Split string into years and months\n",
    "    years, months = s.split(\" Years and \")\n",
    "    months = months.replace(\" Months\", \"\")\n",
    "    # Convert to total months\n",
    "    total_months = int(years) * 12 + int(months)\n",
    "    return total_months\n",
    "\n",
    "# Apply the function to the \"age\" column and create a new column \"age_in_months\"\n",
    "final_dataset[\"Credit_History_Age\"] = final_dataset[\"Credit_History_Age\"].apply(convert_to_months)"
   ]
  },
  {
   "cell_type": "code",
   "execution_count": null,
   "metadata": {
    "id": "B0gTq707yfsz"
   },
   "outputs": [],
   "source": [
    "# Calculate the median credit history age by customer using groupby and summarize\n",
    "median_credit_history_age_customer = final_dataset.groupby('Customer_ID').agg(median_credit_history_age=('Credit_History_Age', 'median'))\n",
    "\n",
    "# Join the median credit history age column to the dataset\n",
    "final_dataset = pd.merge(final_dataset, median_credit_history_age_customer, on='Customer_ID', how='left')\n",
    "\n",
    "# Replace rows with a value of 0 in Credit History Age column with median credit history age\n",
    "final_dataset['Credit_History_Age'] = final_dataset['Credit_History_Age'].apply(lambda x: final_dataset['median_credit_history_age'][x] if x == 0 else x)\n",
    "\n",
    "# Drop the median credit history age column\n",
    "final_dataset.drop('median_credit_history_age', axis=1, inplace=True)"
   ]
  },
  {
   "cell_type": "code",
   "execution_count": null,
   "metadata": {
    "colab": {
     "base_uri": "https://localhost:8080/"
    },
    "id": "Ro0YZiR1sKg5",
    "outputId": "7268006f-9c26-46fc-d751-af3c5c85404f"
   },
   "outputs": [],
   "source": [
    "final_dataset.info()"
   ]
  },
  {
   "cell_type": "markdown",
   "metadata": {
    "id": "99xJKlXC60Nz"
   },
   "source": [
    "### Dealing with Occupation column"
   ]
  },
  {
   "cell_type": "code",
   "execution_count": null,
   "metadata": {
    "colab": {
     "base_uri": "https://localhost:8080/"
    },
    "id": "tVluKjp87VD8",
    "outputId": "ada78bdc-e9c9-441c-8017-5648a5db982d"
   },
   "outputs": [],
   "source": [
    "final_dataset['Occupation'].value_counts()"
   ]
  },
  {
   "cell_type": "code",
   "execution_count": null,
   "metadata": {
    "colab": {
     "base_uri": "https://localhost:8080/"
    },
    "id": "tOwyWI4M736a",
    "outputId": "08316c15-25e1-4e1a-e613-4b92d3aac31d"
   },
   "outputs": [],
   "source": [
    "# Remove rows where the \"Occupation\" column has the value \"_______\"\n",
    "final_dataset = final_dataset[~(final_dataset['Occupation'] == '_______')]\n",
    "final_dataset['Occupation'].value_counts()"
   ]
  },
  {
   "cell_type": "markdown",
   "metadata": {
    "id": "q8lX0l5X8UU5"
   },
   "source": [
    "### Dealing with Annual Income column"
   ]
  },
  {
   "cell_type": "code",
   "execution_count": null,
   "metadata": {
    "colab": {
     "base_uri": "https://localhost:8080/"
    },
    "id": "hEutIRsN8b6C",
    "outputId": "c102d773-2fe1-47e2-bc25-c26794e34fbb"
   },
   "outputs": [],
   "source": [
    "final_dataset['Annual_Income'].value_counts()"
   ]
  },
  {
   "cell_type": "code",
   "execution_count": null,
   "metadata": {
    "colab": {
     "base_uri": "https://localhost:8080/"
    },
    "id": "kZGfqtDI8rD9",
    "outputId": "2b0d7157-2506-47ed-a9da-3138cf4e145f"
   },
   "outputs": [],
   "source": [
    "# Remove rows where the \"Annual_Income\" column has the value \"_\"\n",
    "final_dataset['Annual_Income'] = final_dataset['Annual_Income'].str.replace('_', '')\n",
    "# Converting \"Annual_Income\" column to numeric\n",
    "#final_dataset['Annual_Income'] = pd.to_(final_dataset['Annual_Income'],errors='coerce')\n",
    "final_dataset['Annual_Income'].value_counts()\n"
   ]
  },
  {
   "cell_type": "code",
   "execution_count": null,
   "metadata": {},
   "outputs": [],
   "source": [
    "# Adjust incorrect data entries\n",
    "sym = '\\\\`*_{}[]()>#@+!$:;'\n",
    "col_int = ['Annual_Income','Delay_from_due_date','Num_of_Delayed_Payment',\n",
    "           'Outstanding_Debt','Total_EMI_per_month', 'Monthly_Balance']\n",
    "\n",
    "col_str = ['Occupation', 'Credit_History_Age','Payment_of_Min_Amount','Credit_Score']\n",
    "\n",
    "for i in col_int:\n",
    "    for c in sym:\n",
    "        final_dataset[i] = final_dataset[i].astype(str).str.replace(c,'')\n",
    "        \n",
    "for i in col_str:\n",
    "    for c in sym:\n",
    "        final_dataset[i] = final_dataset[i].replace(c,'')"
   ]
  },
  {
   "cell_type": "markdown",
   "metadata": {
    "id": "UlfWk_DM-Zbn"
   },
   "source": [
    "### Dealing with Credit Score column"
   ]
  },
  {
   "cell_type": "code",
   "execution_count": null,
   "metadata": {
    "colab": {
     "base_uri": "https://localhost:8080/"
    },
    "id": "NZ9kc7pd-fwA",
    "outputId": "4c472216-0f80-48c5-d44a-255b5ff4316b"
   },
   "outputs": [],
   "source": [
    "final_dataset['Credit_Score'].value_counts()"
   ]
  },
  {
   "cell_type": "markdown",
   "metadata": {
    "id": "Y6fJkgcW-q2k"
   },
   "source": [
    "### Dealing with Payment Behaviour column "
   ]
  },
  {
   "cell_type": "code",
   "execution_count": null,
   "metadata": {
    "colab": {
     "base_uri": "https://localhost:8080/"
    },
    "id": "i23K0g1Z-0Sk",
    "outputId": "69b455ac-dc6e-4530-a411-3294ef32fed9"
   },
   "outputs": [],
   "source": [
    "final_dataset['Payment_Behaviour'].value_counts()"
   ]
  },
  {
   "cell_type": "code",
   "execution_count": null,
   "metadata": {
    "id": "mIXlSt7G_xxE"
   },
   "outputs": [],
   "source": [
    "# Remove rows where the \"Payment_Behaviour\" column has the value \"!@9#%8\"\n",
    "final_dataset = final_dataset[~(final_dataset['Payment_Behaviour'] == '!@9#%8')]"
   ]
  },
  {
   "cell_type": "code",
   "execution_count": null,
   "metadata": {
    "colab": {
     "base_uri": "https://localhost:8080/"
    },
    "id": "sdYnkhWrAIT1",
    "outputId": "b71f26a5-021c-41e7-b3fe-861dbdd127e9"
   },
   "outputs": [],
   "source": [
    "final_dataset['Payment_Behaviour'].value_counts()"
   ]
  },
  {
   "cell_type": "code",
   "execution_count": null,
   "metadata": {
    "colab": {
     "base_uri": "https://localhost:8080/"
    },
    "id": "brMdYPGEAsqb",
    "outputId": "ef0bccd3-be5f-45fb-e6e4-b5e90775deb7"
   },
   "outputs": [],
   "source": [
    "final_dataset[\"Payment_Behaviour\"] = final_dataset[\"Payment_Behaviour\"].replace({\"High_spent_Large_value_payments\": 6,\n",
    "                                                                       \"High_spent_Medium_value_payments\": 5,\n",
    "                                                                       \"High_spent_Small_value_payments\": 4,\n",
    "                                                                       \"Low_spent_Large_value_payments\": 3,\n",
    "                                                                       \"Low_spent_Medium_value_payments\": 2,\n",
    "                                                                       \"Low_spent_Small_value_payments\": 1})\n"
   ]
  },
  {
   "cell_type": "code",
   "execution_count": null,
   "metadata": {
    "colab": {
     "base_uri": "https://localhost:8080/"
    },
    "id": "iBs3qCG1ChMV",
    "outputId": "2381c0b5-ee30-4bc2-a15f-904a709ccf1c"
   },
   "outputs": [],
   "source": [
    "final_dataset[\"Payment_Behaviour\"].value_counts()"
   ]
  },
  {
   "cell_type": "markdown",
   "metadata": {
    "id": "RaukIXRFCuId"
   },
   "source": [
    "Dealing with Total_EMI_per_month column"
   ]
  },
  {
   "cell_type": "code",
   "execution_count": null,
   "metadata": {
    "colab": {
     "base_uri": "https://localhost:8080/"
    },
    "id": "S-ZuGa8UC8wG",
    "outputId": "e64f0867-1d2b-49cb-c0a3-257f13e1f116"
   },
   "outputs": [],
   "source": [
    "final_dataset['Total_EMI_per_month'].value_counts()"
   ]
  },
  {
   "cell_type": "markdown",
   "metadata": {
    "id": "JQaImpT0EBeO"
   },
   "source": [
    "Dealing with the Payment_of_Min_Amount column"
   ]
  },
  {
   "cell_type": "code",
   "execution_count": null,
   "metadata": {
    "colab": {
     "base_uri": "https://localhost:8080/"
    },
    "id": "J0ECoqk9EJ1E",
    "outputId": "328796a1-05f0-412b-fdb9-9b33b86babf0"
   },
   "outputs": [],
   "source": [
    "final_dataset['Payment_of_Min_Amount'].value_counts()"
   ]
  },
  {
   "cell_type": "code",
   "execution_count": null,
   "metadata": {
    "colab": {
     "base_uri": "https://localhost:8080/"
    },
    "id": "Z0hFUY9CEmMc",
    "outputId": "59ea8fad-9b08-4511-876c-4d94e8e7e06b"
   },
   "outputs": [],
   "source": [
    "final_dataset['Payment_of_Min_Amount'] = final_dataset['Payment_of_Min_Amount'].replace({\"No\": 2,\n",
    "                                                                       \"Yes\": 1,\n",
    "                                                                       \"NM\": 0})"
   ]
  },
  {
   "cell_type": "code",
   "execution_count": null,
   "metadata": {
    "colab": {
     "base_uri": "https://localhost:8080/"
    },
    "id": "zdhWAtJbFEIr",
    "outputId": "59cd3887-36f9-496b-85d9-3184178791ba"
   },
   "outputs": [],
   "source": [
    "final_dataset['Payment_of_Min_Amount'].value_counts()"
   ]
  },
  {
   "cell_type": "markdown",
   "metadata": {
    "id": "R4jl5HbNF601"
   },
   "source": [
    "Dealing with Outstanding_Debt column"
   ]
  },
  {
   "cell_type": "code",
   "execution_count": null,
   "metadata": {
    "colab": {
     "base_uri": "https://localhost:8080/"
    },
    "id": "rMjZbPl4GEVs",
    "outputId": "1ea28fa9-507c-402c-eaca-f4119c15dad8"
   },
   "outputs": [],
   "source": [
    "final_dataset['Outstanding_Debt'].value_counts()"
   ]
  },
  {
   "cell_type": "code",
   "execution_count": null,
   "metadata": {
    "id": "GYDljYdjGXgy"
   },
   "outputs": [],
   "source": [
    "# Remove rows where the \"Outstanding_Debt\" column has the value \"_\"\n",
    "#final_dataset['Outstanding_Debt'] = final_dataset['Outstanding_Debt'].str.replace('_', '')\n",
    "# Converting \"Outstanding_Debt\" column to numeric\n",
    "#final_dataset['Outstanding_Debt'] = pd.to_numeric(final_dataset['Outstanding_Debt'],errors='coerce')\n",
    "\n",
    "\n",
    "int_col = ['Delay_from_due_date','Num_of_Delayed_Payment','Outstanding_Debt',\n",
    "           'Total_EMI_per_month','Monthly_Balance','Payment_Behaviour','Credit_History_Age','Annual_Income']\n",
    "\n",
    "for i in int_col:\n",
    "    final_dataset[i] = final_dataset[i].astype(float)"
   ]
  },
  {
   "cell_type": "code",
   "execution_count": null,
   "metadata": {
    "colab": {
     "base_uri": "https://localhost:8080/"
    },
    "id": "dB2ZMzR_GnGh",
    "outputId": "3ade0fbd-2a01-4ddd-a632-bdd9c2e098e1"
   },
   "outputs": [],
   "source": [
    "final_dataset['Outstanding_Debt'].value_counts()"
   ]
  },
  {
   "cell_type": "markdown",
   "metadata": {
    "id": "_LInnZ3xH3p4"
   },
   "source": [
    "Dealing with Delay_from_due_date column"
   ]
  },
  {
   "cell_type": "code",
   "execution_count": null,
   "metadata": {
    "colab": {
     "base_uri": "https://localhost:8080/"
    },
    "id": "8dvZIg1rH63m",
    "outputId": "dca955d0-585a-4879-f1a8-28395735dc0d"
   },
   "outputs": [],
   "source": [
    "final_dataset['Delay_from_due_date'].value_counts()"
   ]
  },
  {
   "cell_type": "code",
   "execution_count": null,
   "metadata": {},
   "outputs": [],
   "source": [
    "final_dataset.head()"
   ]
  },
  {
   "cell_type": "code",
   "execution_count": null,
   "metadata": {
    "colab": {
     "base_uri": "https://localhost:8080/"
    },
    "id": "5tmmrDiTNnij",
    "outputId": "97985675-9531-4bc1-a4d5-531f9b78b31a"
   },
   "outputs": [],
   "source": [
    "final_dataset['Delay_from_due_date'].value_counts()"
   ]
  },
  {
   "cell_type": "markdown",
   "metadata": {
    "id": "-Ac0Ob9JQRK5"
   },
   "source": [
    "Dealing with the Num_of_Loan column"
   ]
  },
  {
   "cell_type": "code",
   "execution_count": null,
   "metadata": {
    "colab": {
     "base_uri": "https://localhost:8080/"
    },
    "id": "JH0fjvX9QaRx",
    "outputId": "ffcf29cb-cc4f-4042-a199-c739f29edf16"
   },
   "outputs": [],
   "source": [
    "final_dataset['Num_of_Loan'].value_counts()"
   ]
  },
  {
   "cell_type": "code",
   "execution_count": null,
   "metadata": {
    "id": "SeNlzqslRiOi"
   },
   "outputs": [],
   "source": [
    "final_dataset.loc[final_dataset['Num_of_Loan'] == \"-100\", 'Num_of_Loan'] = np.nan"
   ]
  },
  {
   "cell_type": "code",
   "execution_count": null,
   "metadata": {
    "id": "GhH9DpCuRFGo"
   },
   "outputs": [],
   "source": [
    "# Calculate the median Num_of_Loan by customer using groupby and summarize\n",
    "#median_Num_of_Loan_customer = final_dataset.groupby('Customer_ID').agg(median_Num_of_Loan=('Num_of_Loan', 'median'))\n",
    "\n",
    "# Join the median Num_of_Loan column to the dataset\n",
    "final_dataset = pd.merge(final_dataset, median_Num_of_Loan_customer, on='Customer_ID', how='left')\n",
    "\n",
    "# Replace rows with a value of 0 in Num_of_Loan column with median credit history age\n",
    "final_dataset['Num_of_Loan'].fillna(final_dataset['median_Num_of_Loan'], inplace=True)\n",
    "\n",
    "# Drop the median Num_of_Loan column\n",
    "final_dataset.drop('median_Num_of_Loan', axis=1, inplace=True)\n"
   ]
  },
  {
   "cell_type": "code",
   "execution_count": null,
   "metadata": {},
   "outputs": [],
   "source": [
    "final_dataset.head()"
   ]
  },
  {
   "cell_type": "code",
   "execution_count": null,
   "metadata": {},
   "outputs": [],
   "source": [
    "#Using the Inter Quantile Range to drop outliers\n",
    "Q1 = final_dataset.Annual_Income.quantile(0.25)\n",
    "Q3 = final_dataset.Annual_Income.quantile(0.75)\n",
    "\n",
    "IQR = Q3 - Q1\n",
    "final_dataset = final_dataset.drop(final_dataset.loc[final_dataset['Annual_Income'] > (Q3 + 1.5 * IQR)].index)\n",
    "final_dataset = final_dataset.drop(final_dataset.loc[final_dataset['Annual_Income'] < (Q1-1.5*IQR)].index)"
   ]
  },
  {
   "cell_type": "code",
   "execution_count": null,
   "metadata": {},
   "outputs": [],
   "source": []
  },
  {
   "cell_type": "code",
   "execution_count": null,
   "metadata": {},
   "outputs": [],
   "source": [
    "sns.boxplot(x=final_dataset['Annual_Income'])"
   ]
  },
  {
   "cell_type": "code",
   "execution_count": null,
   "metadata": {},
   "outputs": [],
   "source": [
    "sns.boxplot(x=final_dataset['Credit_History_Age'])"
   ]
  },
  {
   "cell_type": "code",
   "execution_count": null,
   "metadata": {
    "scrolled": true
   },
   "outputs": [],
   "source": [
    "sns.boxplot(x=final_dataset['Outstanding_Debt'])"
   ]
  },
  {
   "cell_type": "code",
   "execution_count": null,
   "metadata": {},
   "outputs": [],
   "source": [
    "#Occupation count\n",
    "counting_occupation = final_dataset['Occupation'].value_counts(dropna=False)\n"
   ]
  },
  {
   "cell_type": "code",
   "execution_count": null,
   "metadata": {},
   "outputs": [],
   "source": [
    "#Bar graph for occupations\n",
    "sns.set(rc={'figure.figsize':(20,10)})\n",
    "sns.barplot(x=counting_occupation)\n",
    "plt.title('Bar graph for occupations', fontsize=16)\n",
    "plt.ylabel('Count', fontsize=14)\n",
    "plt.xlabel('Occupation', fontsize=14)\n",
    "plt.xticks(rotation=45)\n",
    "plt.show()"
   ]
  },
  {
   "cell_type": "markdown",
   "metadata": {
    "id": "IjtsQvuEZKWh"
   },
   "source": [
    "Lets work on the outliers in different columns like \"Num_of_Delayed_Payment\", \"Total_EMI_per_month\", \"Num_of_Loan\" and \"Annual_Income\""
   ]
  },
  {
   "cell_type": "code",
   "execution_count": null,
   "metadata": {
    "id": "-1xyr1Y5Zsq3"
   },
   "outputs": [],
   "source": [
    "#sorted(final_dataset['Num_of_Delayed_Payment'])"
   ]
  },
  {
   "cell_type": "code",
   "execution_count": null,
   "metadata": {
    "id": "Z5sEBzKBbmjF"
   },
   "outputs": [],
   "source": [
    "#quantile1, quantile3 = np.percentile(final_dataset['Num_of_Delayed_Payment'],[25,75])"
   ]
  },
  {
   "cell_type": "code",
   "execution_count": null,
   "metadata": {
    "id": "WNS9n_ryoAFL"
   },
   "outputs": [],
   "source": [
    "#print(quantile1,quantile3)"
   ]
  },
  {
   "cell_type": "code",
   "execution_count": null,
   "metadata": {
    "id": "wiILUw26oItg"
   },
   "outputs": [],
   "source": [
    "#iqr_value = quantile3 - quantile1\n",
    "#print(iqr_value)"
   ]
  },
  {
   "cell_type": "code",
   "execution_count": null,
   "metadata": {
    "id": "B22gnpMHojuo"
   },
   "outputs": [],
   "source": [
    "#lowerbound = quantile1 - (1.5 * iqr_value)\n",
    "#upperbound = quantile3 + (1.5 * iqr_value)\n",
    "#print(lowerbound,upperbound)"
   ]
  }
 ],
 "metadata": {
  "colab": {
   "provenance": []
  },
  "kernelspec": {
   "display_name": "Python 3 (ipykernel)",
   "language": "python",
   "name": "python3"
  },
  "language_info": {
   "codemirror_mode": {
    "name": "ipython",
    "version": 3
   },
   "file_extension": ".py",
   "mimetype": "text/x-python",
   "name": "python",
   "nbconvert_exporter": "python",
   "pygments_lexer": "ipython3",
   "version": "3.11.2"
  }
 },
 "nbformat": 4,
 "nbformat_minor": 1
}
