{
  "nbformat": 4,
  "nbformat_minor": 0,
  "metadata": {
    "colab": {
      "provenance": [],
      "authorship_tag": "ABX9TyPcBM1I7oYtnALJT87Dexui",
      "include_colab_link": true
    },
    "kernelspec": {
      "name": "python3",
      "display_name": "Python 3"
    },
    "language_info": {
      "name": "python"
    }
  },
  "cells": [
    {
      "cell_type": "markdown",
      "metadata": {
        "id": "view-in-github",
        "colab_type": "text"
      },
      "source": [
        "<a href=\"https://colab.research.google.com/github/tanvimathur11/DDA/blob/main/DDA_cleaning.ipynb\" target=\"_parent\"><img src=\"https://colab.research.google.com/assets/colab-badge.svg\" alt=\"Open In Colab\"/></a>"
      ]
    },
    {
      "cell_type": "code",
      "execution_count": 3,
      "metadata": {
        "id": "o4hiN2edAc6P"
      },
      "outputs": [],
      "source": [
        "import numpy as np\n",
        "import pandas as pd\n",
        "import matplotlib.pyplot as plt\n",
        "%matplotlib inline\n",
        "import seaborn as sns"
      ]
    },
    {
      "cell_type": "code",
      "source": [
        "from google.colab import drive\n",
        "drive.mount('/content/drive')"
      ],
      "metadata": {
        "colab": {
          "base_uri": "https://localhost:8080/"
        },
        "id": "_IDFx8TlApY3",
        "outputId": "17f4acac-a833-439e-e4fb-7dae8a618105"
      },
      "execution_count": 4,
      "outputs": [
        {
          "output_type": "stream",
          "name": "stdout",
          "text": [
            "Mounted at /content/drive\n"
          ]
        }
      ]
    },
    {
      "cell_type": "code",
      "source": [
        "dataset = pd.read_csv('/content/drive/MyDrive/train.csv',low_memory=False)"
      ],
      "metadata": {
        "id": "5jGkPzIaA2aR"
      },
      "execution_count": 5,
      "outputs": []
    },
    {
      "cell_type": "code",
      "source": [
        "dataset = dataset.drop([\"Amount_invested_monthly\", \"SSN\", \"Name\", \"Month\", \"Age\", \"Num_Bank_Accounts\", \"Num_Credit_Card\", \"Interest_Rate\", \"Type_of_Loan\", \"Changed_Credit_Limit\", \"Num_Credit_Inquiries\", \"Credit_Mix\", \"Credit_Utilization_Ratio\"], axis=1)"
      ],
      "metadata": {
        "id": "Cf_5fvcfF1P7"
      },
      "execution_count": 6,
      "outputs": []
    },
    {
      "cell_type": "code",
      "source": [
        "dataset.to_csv('final_dataset.csv', index=False)"
      ],
      "metadata": {
        "id": "Fgx3m0VSGN14"
      },
      "execution_count": 7,
      "outputs": []
    },
    {
      "cell_type": "code",
      "source": [
        "final_dataset = pd.read_csv('final_dataset.csv')\n",
        "x = dataset.iloc[:,:-1].values\n",
        "y = dataset.iloc[:,-1].values"
      ],
      "metadata": {
        "id": "nN9m4HlBD71J"
      },
      "execution_count": 8,
      "outputs": []
    },
    {
      "cell_type": "code",
      "source": [
        "final_dataset.shape"
      ],
      "metadata": {
        "colab": {
          "base_uri": "https://localhost:8080/"
        },
        "id": "CkH7iY-UEACo",
        "outputId": "52f1d62c-3528-406d-f6f1-7646e294da24"
      },
      "execution_count": 9,
      "outputs": [
        {
          "output_type": "execute_result",
          "data": {
            "text/plain": [
              "(100000, 15)"
            ]
          },
          "metadata": {},
          "execution_count": 9
        }
      ]
    },
    {
      "cell_type": "markdown",
      "source": [
        "Cleaning errors and fixing variables"
      ],
      "metadata": {
        "id": "7dNFJngRX7CE"
      }
    },
    {
      "cell_type": "code",
      "source": [
        "final_dataset.info()"
      ],
      "metadata": {
        "colab": {
          "base_uri": "https://localhost:8080/"
        },
        "id": "2Euj6388YCpY",
        "outputId": "a6d5ec4f-a21c-4611-b24c-1448bf8cdcb2"
      },
      "execution_count": 10,
      "outputs": [
        {
          "output_type": "stream",
          "name": "stdout",
          "text": [
            "<class 'pandas.core.frame.DataFrame'>\n",
            "RangeIndex: 100000 entries, 0 to 99999\n",
            "Data columns (total 15 columns):\n",
            " #   Column                  Non-Null Count   Dtype  \n",
            "---  ------                  --------------   -----  \n",
            " 0   ID                      100000 non-null  object \n",
            " 1   Customer_ID             100000 non-null  object \n",
            " 2   Occupation              100000 non-null  object \n",
            " 3   Annual_Income           100000 non-null  object \n",
            " 4   Monthly_Inhand_Salary   84998 non-null   float64\n",
            " 5   Num_of_Loan             100000 non-null  object \n",
            " 6   Delay_from_due_date     100000 non-null  int64  \n",
            " 7   Num_of_Delayed_Payment  92998 non-null   object \n",
            " 8   Outstanding_Debt        100000 non-null  object \n",
            " 9   Credit_History_Age      90970 non-null   object \n",
            " 10  Payment_of_Min_Amount   100000 non-null  object \n",
            " 11  Total_EMI_per_month     100000 non-null  float64\n",
            " 12  Payment_Behaviour       100000 non-null  object \n",
            " 13  Monthly_Balance         98800 non-null   object \n",
            " 14  Credit_Score            100000 non-null  object \n",
            "dtypes: float64(2), int64(1), object(12)\n",
            "memory usage: 11.4+ MB\n"
          ]
        }
      ]
    },
    {
      "cell_type": "markdown",
      "source": [
        "Deal with the missing values of Monthly_Inhand_Salary columns"
      ],
      "metadata": {
        "id": "-W10ebACbNLj"
      }
    },
    {
      "cell_type": "code",
      "source": [
        "# Convert the Customer_ID column to a factor\n",
        "final_dataset['Customer_ID'] = final_dataset['Customer_ID'].astype('category')\n",
        "\n",
        "# Calculate the median Inhand Salary by customer using groupby and summarize\n",
        "median_Inhand_salary_by_customer = final_dataset.groupby('Customer_ID').agg(median_salary=('Monthly_Inhand_Salary', 'median'))\n",
        "\n",
        "# Join the median salary column to the dataset\n",
        "final_dataset = pd.merge(final_dataset, median_Inhand_salary_by_customer, on='Customer_ID', how='left')\n",
        "\n",
        "# Replace missing values in Monthly Inhand Salary column with median salary\n",
        "final_dataset['Monthly_Inhand_Salary'].fillna(final_dataset['median_salary'], inplace=True)\n",
        "\n",
        "# Drop the median salary column\n",
        "final_dataset.drop('median_salary', axis=1, inplace=True)\n"
      ],
      "metadata": {
        "id": "8UhB7cE7tHgI"
      },
      "execution_count": 11,
      "outputs": []
    },
    {
      "cell_type": "code",
      "source": [
        "final_dataset.info()"
      ],
      "metadata": {
        "colab": {
          "base_uri": "https://localhost:8080/"
        },
        "id": "PGq3ebiFb2aO",
        "outputId": "7adafebf-6134-42cf-99ee-10fddec35987"
      },
      "execution_count": 12,
      "outputs": [
        {
          "output_type": "stream",
          "name": "stdout",
          "text": [
            "<class 'pandas.core.frame.DataFrame'>\n",
            "Int64Index: 100000 entries, 0 to 99999\n",
            "Data columns (total 15 columns):\n",
            " #   Column                  Non-Null Count   Dtype   \n",
            "---  ------                  --------------   -----   \n",
            " 0   ID                      100000 non-null  object  \n",
            " 1   Customer_ID             100000 non-null  category\n",
            " 2   Occupation              100000 non-null  object  \n",
            " 3   Annual_Income           100000 non-null  object  \n",
            " 4   Monthly_Inhand_Salary   100000 non-null  float64 \n",
            " 5   Num_of_Loan             100000 non-null  object  \n",
            " 6   Delay_from_due_date     100000 non-null  int64   \n",
            " 7   Num_of_Delayed_Payment  92998 non-null   object  \n",
            " 8   Outstanding_Debt        100000 non-null  object  \n",
            " 9   Credit_History_Age      90970 non-null   object  \n",
            " 10  Payment_of_Min_Amount   100000 non-null  object  \n",
            " 11  Total_EMI_per_month     100000 non-null  float64 \n",
            " 12  Payment_Behaviour       100000 non-null  object  \n",
            " 13  Monthly_Balance         98800 non-null   object  \n",
            " 14  Credit_Score            100000 non-null  object  \n",
            "dtypes: category(1), float64(2), int64(1), object(11)\n",
            "memory usage: 12.0+ MB\n"
          ]
        }
      ]
    },
    {
      "cell_type": "markdown",
      "source": [
        "Deal with the missing values and '_' of Num_of_Delayed_Payment "
      ],
      "metadata": {
        "id": "zXL06H1-cENL"
      }
    },
    {
      "cell_type": "code",
      "source": [
        "# replace the '_' with ''\n",
        "final_dataset['Num_of_Delayed_Payment'] = final_dataset['Num_of_Delayed_Payment'].replace('_', '', regex=True)\n",
        "\n",
        "# convert to numeric\n",
        "final_dataset['Num_of_Delayed_Payment'] = final_dataset['Num_of_Delayed_Payment'].astype(float)"
      ],
      "metadata": {
        "id": "vSxNo3K3wveS"
      },
      "execution_count": 13,
      "outputs": []
    },
    {
      "cell_type": "code",
      "source": [
        "# Calculate the median delayed payments by customer using groupby and summarize\n",
        "median_delayed_by_customer = final_dataset.groupby('Customer_ID').agg(median_delayed=('Num_of_Delayed_Payment', 'median'))\n",
        "\n",
        "# Join the median delayed payments column to the dataset\n",
        "final_dataset = pd.merge(final_dataset, median_delayed_by_customer, on='Customer_ID', how='left')\n",
        "\n",
        "# Replace missing values in Num of Delayed Payment column with median delayed payments\n",
        "final_dataset['Num_of_Delayed_Payment'].fillna(final_dataset['median_delayed'], inplace=True)\n",
        "\n",
        "\n",
        "# Drop the median delayed payments column\n",
        "final_dataset.drop('median_delayed', axis=1, inplace=True)"
      ],
      "metadata": {
        "id": "P3WwXscB1QkU"
      },
      "execution_count": 14,
      "outputs": []
    },
    {
      "cell_type": "code",
      "source": [
        "final_dataset.info()"
      ],
      "metadata": {
        "colab": {
          "base_uri": "https://localhost:8080/"
        },
        "outputId": "34f36f4d-29e4-4b27-8d6b-d0be4d206537",
        "id": "ijfKVK6MdB0i"
      },
      "execution_count": 15,
      "outputs": [
        {
          "output_type": "stream",
          "name": "stdout",
          "text": [
            "<class 'pandas.core.frame.DataFrame'>\n",
            "Int64Index: 100000 entries, 0 to 99999\n",
            "Data columns (total 15 columns):\n",
            " #   Column                  Non-Null Count   Dtype   \n",
            "---  ------                  --------------   -----   \n",
            " 0   ID                      100000 non-null  object  \n",
            " 1   Customer_ID             100000 non-null  category\n",
            " 2   Occupation              100000 non-null  object  \n",
            " 3   Annual_Income           100000 non-null  object  \n",
            " 4   Monthly_Inhand_Salary   100000 non-null  float64 \n",
            " 5   Num_of_Loan             100000 non-null  object  \n",
            " 6   Delay_from_due_date     100000 non-null  int64   \n",
            " 7   Num_of_Delayed_Payment  100000 non-null  float64 \n",
            " 8   Outstanding_Debt        100000 non-null  object  \n",
            " 9   Credit_History_Age      90970 non-null   object  \n",
            " 10  Payment_of_Min_Amount   100000 non-null  object  \n",
            " 11  Total_EMI_per_month     100000 non-null  float64 \n",
            " 12  Payment_Behaviour       100000 non-null  object  \n",
            " 13  Monthly_Balance         98800 non-null   object  \n",
            " 14  Credit_Score            100000 non-null  object  \n",
            "dtypes: category(1), float64(3), int64(1), object(10)\n",
            "memory usage: 12.0+ MB\n"
          ]
        }
      ]
    },
    {
      "cell_type": "markdown",
      "source": [
        "Deal with the missing values and '_' of Monthly_Balance"
      ],
      "metadata": {
        "id": "Q4QfJF-Ge-Hn"
      }
    },
    {
      "cell_type": "code",
      "source": [
        "# replace the '_' with ''\n",
        "final_dataset['Monthly_Balance'] = final_dataset['Monthly_Balance'].replace('_', '', regex=True)\n",
        "# convert to numeric\n",
        "final_dataset['Monthly_Balance'] = final_dataset['Monthly_Balance'].astype(float)"
      ],
      "metadata": {
        "id": "BnX0T--tfHzw"
      },
      "execution_count": 16,
      "outputs": []
    },
    {
      "cell_type": "code",
      "source": [
        "sns.boxplot(x=final_dataset['Monthly_Balance'])"
      ],
      "metadata": {
        "colab": {
          "base_uri": "https://localhost:8080/",
          "height": 297
        },
        "id": "8nGTHZ7GMe3K",
        "outputId": "88cf0b85-8700-4a35-fa80-bccc61a888f8"
      },
      "execution_count": 17,
      "outputs": [
        {
          "output_type": "execute_result",
          "data": {
            "text/plain": [
              "<AxesSubplot:xlabel='Monthly_Balance'>"
            ]
          },
          "metadata": {},
          "execution_count": 17
        },
        {
          "output_type": "display_data",
          "data": {
            "text/plain": [
              "<Figure size 432x288 with 1 Axes>"
            ],
            "image/png": "[encoded data removed]"
          },
          "metadata": {
            "needs_background": "light"
          }
        }
      ]
    },
    {
      "cell_type": "code",
      "source": [
        "# Calculate the median delayed payments by customer using groupby and summarize\n",
        "median_Monthly_Balance_customer = final_dataset.groupby('Customer_ID').agg(median_Monthly_Balance=('Monthly_Balance', 'median'))\n",
        "\n",
        "# Join the median delayed payments column to the dataset\n",
        "final_dataset = pd.merge(final_dataset, median_Monthly_Balance_customer, on='Customer_ID', how='left')\n",
        "\n",
        "# Replace missing values in Num of Delayed Payment column with median delayed payments\n",
        "final_dataset['Monthly_Balance'].fillna(final_dataset['median_Monthly_Balance'], inplace=True)\n",
        "\n",
        "# Drop the median delayed payments column\n",
        "final_dataset.drop('median_Monthly_Balance', axis=1, inplace=True)"
      ],
      "metadata": {
        "id": "KmdsW3sXga_M"
      },
      "execution_count": 18,
      "outputs": []
    },
    {
      "cell_type": "code",
      "source": [
        "final_dataset.info()"
      ],
      "metadata": {
        "colab": {
          "base_uri": "https://localhost:8080/"
        },
        "id": "pSWxGygOg4VO",
        "outputId": "63de2ba4-4dc1-4040-986e-6c90a1ddaa68"
      },
      "execution_count": 19,
      "outputs": [
        {
          "output_type": "stream",
          "name": "stdout",
          "text": [
            "<class 'pandas.core.frame.DataFrame'>\n",
            "Int64Index: 100000 entries, 0 to 99999\n",
            "Data columns (total 15 columns):\n",
            " #   Column                  Non-Null Count   Dtype   \n",
            "---  ------                  --------------   -----   \n",
            " 0   ID                      100000 non-null  object  \n",
            " 1   Customer_ID             100000 non-null  category\n",
            " 2   Occupation              100000 non-null  object  \n",
            " 3   Annual_Income           100000 non-null  object  \n",
            " 4   Monthly_Inhand_Salary   100000 non-null  float64 \n",
            " 5   Num_of_Loan             100000 non-null  object  \n",
            " 6   Delay_from_due_date     100000 non-null  int64   \n",
            " 7   Num_of_Delayed_Payment  100000 non-null  float64 \n",
            " 8   Outstanding_Debt        100000 non-null  object  \n",
            " 9   Credit_History_Age      90970 non-null   object  \n",
            " 10  Payment_of_Min_Amount   100000 non-null  object  \n",
            " 11  Total_EMI_per_month     100000 non-null  float64 \n",
            " 12  Payment_Behaviour       100000 non-null  object  \n",
            " 13  Monthly_Balance         100000 non-null  float64 \n",
            " 14  Credit_Score            100000 non-null  object  \n",
            "dtypes: category(1), float64(4), int64(1), object(9)\n",
            "memory usage: 12.0+ MB\n"
          ]
        }
      ]
    },
    {
      "cell_type": "markdown",
      "source": [
        "Dealing with the missing value in Credit_History_Age column"
      ],
      "metadata": {
        "id": "teAF5wzxjWoj"
      }
    },
    {
      "cell_type": "code",
      "source": [
        "# Define function to convert string to number of months\n",
        "def convert_to_months(s):\n",
        "    # If value is null or empty, return default value 0\n",
        "    if pd.isna(s) or s.strip() == \"\":\n",
        "        return 0\n",
        "    # Split string into years and months\n",
        "    years, months = s.split(\" Years and \")\n",
        "    months = months.replace(\" Months\", \"\")\n",
        "    # Convert to total months\n",
        "    total_months = int(years) * 12 + int(months)\n",
        "    return total_months\n",
        "\n",
        "# Apply the function to the \"age\" column and create a new column \"age_in_months\"\n",
        "final_dataset[\"Credit_History_Age\"] = final_dataset[\"Credit_History_Age\"].apply(convert_to_months)"
      ],
      "metadata": {
        "id": "X6a16LfOjm5t"
      },
      "execution_count": 20,
      "outputs": []
    },
    {
      "cell_type": "code",
      "source": [
        "# Calculate the median credit history age by customer using groupby and summarize\n",
        "median_credit_history_age_customer = final_dataset.groupby('Customer_ID').agg(median_credit_history_age=('Credit_History_Age', 'median'))\n",
        "\n",
        "# Join the median credit history age column to the dataset\n",
        "final_dataset = pd.merge(final_dataset, median_credit_history_age_customer, on='Customer_ID', how='left')\n",
        "\n",
        "# Replace rows with a value of 0 in Credit History Age column with median credit history age\n",
        "final_dataset['Credit_History_Age'] = final_dataset['Credit_History_Age'].apply(lambda x: final_dataset['median_credit_history_age'][x] if x == 0 else x)\n",
        "\n",
        "# Drop the median credit history age column\n",
        "final_dataset.drop('median_credit_history_age', axis=1, inplace=True)"
      ],
      "metadata": {
        "id": "B0gTq707yfsz"
      },
      "execution_count": 21,
      "outputs": []
    },
    {
      "cell_type": "code",
      "source": [
        "final_dataset.info()"
      ],
      "metadata": {
        "colab": {
          "base_uri": "https://localhost:8080/"
        },
        "id": "Ro0YZiR1sKg5",
        "outputId": "7268006f-9c26-46fc-d751-af3c5c85404f"
      },
      "execution_count": 22,
      "outputs": [
        {
          "output_type": "stream",
          "name": "stdout",
          "text": [
            "<class 'pandas.core.frame.DataFrame'>\n",
            "Int64Index: 100000 entries, 0 to 99999\n",
            "Data columns (total 15 columns):\n",
            " #   Column                  Non-Null Count   Dtype   \n",
            "---  ------                  --------------   -----   \n",
            " 0   ID                      100000 non-null  object  \n",
            " 1   Customer_ID             100000 non-null  category\n",
            " 2   Occupation              100000 non-null  object  \n",
            " 3   Annual_Income           100000 non-null  object  \n",
            " 4   Monthly_Inhand_Salary   100000 non-null  float64 \n",
            " 5   Num_of_Loan             100000 non-null  object  \n",
            " 6   Delay_from_due_date     100000 non-null  int64   \n",
            " 7   Num_of_Delayed_Payment  100000 non-null  float64 \n",
            " 8   Outstanding_Debt        100000 non-null  object  \n",
            " 9   Credit_History_Age      100000 non-null  float64 \n",
            " 10  Payment_of_Min_Amount   100000 non-null  object  \n",
            " 11  Total_EMI_per_month     100000 non-null  float64 \n",
            " 12  Payment_Behaviour       100000 non-null  object  \n",
            " 13  Monthly_Balance         100000 non-null  float64 \n",
            " 14  Credit_Score            100000 non-null  object  \n",
            "dtypes: category(1), float64(5), int64(1), object(8)\n",
            "memory usage: 14.0+ MB\n"
          ]
        }
      ]
    },
    {
      "cell_type": "markdown",
      "source": [
        "Dealing with Occupation column"
      ],
      "metadata": {
        "id": "99xJKlXC60Nz"
      }
    },
    {
      "cell_type": "code",
      "source": [
        "final_dataset['Occupation'].value_counts()"
      ],
      "metadata": {
        "colab": {
          "base_uri": "https://localhost:8080/"
        },
        "id": "tVluKjp87VD8",
        "outputId": "ada78bdc-e9c9-441c-8017-5648a5db982d"
      },
      "execution_count": 23,
      "outputs": [
        {
          "output_type": "execute_result",
          "data": {
            "text/plain": [
              "_______          7062\n",
              "Lawyer           6575\n",
              "Architect        6355\n",
              "Engineer         6350\n",
              "Scientist        6299\n",
              "Mechanic         6291\n",
              "Accountant       6271\n",
              "Developer        6235\n",
              "Media_Manager    6232\n",
              "Teacher          6215\n",
              "Entrepreneur     6174\n",
              "Doctor           6087\n",
              "Journalist       6085\n",
              "Manager          5973\n",
              "Musician         5911\n",
              "Writer           5885\n",
              "Name: Occupation, dtype: int64"
            ]
          },
          "metadata": {},
          "execution_count": 23
        }
      ]
    },
    {
      "cell_type": "code",
      "source": [
        "# Remove rows where the \"Occupation\" column has the value \"_______\"\n",
        "final_dataset = final_dataset[~(final_dataset['Occupation'] == '_______')]\n",
        "final_dataset['Occupation'].value_counts()"
      ],
      "metadata": {
        "colab": {
          "base_uri": "https://localhost:8080/"
        },
        "id": "tOwyWI4M736a",
        "outputId": "08316c15-25e1-4e1a-e613-4b92d3aac31d"
      },
      "execution_count": 24,
      "outputs": [
        {
          "output_type": "execute_result",
          "data": {
            "text/plain": [
              "Lawyer           6575\n",
              "Architect        6355\n",
              "Engineer         6350\n",
              "Scientist        6299\n",
              "Mechanic         6291\n",
              "Accountant       6271\n",
              "Developer        6235\n",
              "Media_Manager    6232\n",
              "Teacher          6215\n",
              "Entrepreneur     6174\n",
              "Doctor           6087\n",
              "Journalist       6085\n",
              "Manager          5973\n",
              "Musician         5911\n",
              "Writer           5885\n",
              "Name: Occupation, dtype: int64"
            ]
          },
          "metadata": {},
          "execution_count": 24
        }
      ]
    },
    {
      "cell_type": "markdown",
      "source": [
        "Dealing with Annual Income column"
      ],
      "metadata": {
        "id": "q8lX0l5X8UU5"
      }
    },
    {
      "cell_type": "code",
      "source": [
        "final_dataset['Annual_Income'].value_counts()"
      ],
      "metadata": {
        "colab": {
          "base_uri": "https://localhost:8080/"
        },
        "id": "hEutIRsN8b6C",
        "outputId": "c102d773-2fe1-47e2-bc25-c26794e34fbb"
      },
      "execution_count": 25,
      "outputs": [
        {
          "output_type": "execute_result",
          "data": {
            "text/plain": [
              "36585.12      16\n",
              "17273.83      15\n",
              "9141.63       15\n",
              "17816.75      14\n",
              "95596.35      14\n",
              "              ..\n",
              "39883.46_      1\n",
              "14773.91_      1\n",
              "14059195.0     1\n",
              "14365.54_      1\n",
              "16857.295_     1\n",
              "Name: Annual_Income, Length: 18560, dtype: int64"
            ]
          },
          "metadata": {},
          "execution_count": 25
        }
      ]
    },
    {
      "cell_type": "code",
      "source": [
        "# Remove rows where the \"Annual_Income\" column has the value \"_\"\n",
        "final_dataset['Annual_Income'] = final_dataset['Annual_Income'].str.replace('_', '')\n",
        "# Converting \"Annual_Income\" column to numeric\n",
        "final_dataset['Annual_Income'] = pd.to_numeric(final_dataset['Annual_Income'],errors='coerce')\n",
        "final_dataset['Annual_Income'].value_counts()"
      ],
      "metadata": {
        "id": "kZGfqtDI8rD9",
        "colab": {
          "base_uri": "https://localhost:8080/"
        },
        "outputId": "2b0d7157-2506-47ed-a9da-3138cf4e145f"
      },
      "execution_count": 26,
      "outputs": [
        {
          "output_type": "stream",
          "name": "stderr",
          "text": [
            "<ipython-input-26-3b06a30f0dc9>:2: SettingWithCopyWarning: \n",
            "A value is trying to be set on a copy of a slice from a DataFrame.\n",
            "Try using .loc[row_indexer,col_indexer] = value instead\n",
            "\n",
            "See the caveats in the documentation: https://pandas.pydata.org/pandas-docs/stable/user_guide/indexing.html#returning-a-view-versus-a-copy\n",
            "  final_dataset['Annual_Income'] = final_dataset['Annual_Income'].str.replace('_', '')\n",
            "<ipython-input-26-3b06a30f0dc9>:4: SettingWithCopyWarning: \n",
            "A value is trying to be set on a copy of a slice from a DataFrame.\n",
            "Try using .loc[row_indexer,col_indexer] = value instead\n",
            "\n",
            "See the caveats in the documentation: https://pandas.pydata.org/pandas-docs/stable/user_guide/indexing.html#returning-a-view-versus-a-copy\n",
            "  final_dataset['Annual_Income'] = pd.to_numeric(final_dataset['Annual_Income'],errors='coerce')\n"
          ]
        },
        {
          "output_type": "execute_result",
          "data": {
            "text/plain": [
              "36585.12       16\n",
              "40341.16       15\n",
              "17816.75       15\n",
              "9141.63        15\n",
              "109945.32      15\n",
              "               ..\n",
              "8681121.00      1\n",
              "12083640.00     1\n",
              "20703498.00     1\n",
              "3301922.00      1\n",
              "11603023.00     1\n",
              "Name: Annual_Income, Length: 13409, dtype: int64"
            ]
          },
          "metadata": {},
          "execution_count": 26
        }
      ]
    },
    {
      "cell_type": "markdown",
      "source": [
        "Dealing with Credit Score column"
      ],
      "metadata": {
        "id": "UlfWk_DM-Zbn"
      }
    },
    {
      "cell_type": "code",
      "source": [
        "final_dataset['Credit_Score'].value_counts()"
      ],
      "metadata": {
        "id": "NZ9kc7pd-fwA",
        "colab": {
          "base_uri": "https://localhost:8080/"
        },
        "outputId": "4c472216-0f80-48c5-d44a-255b5ff4316b"
      },
      "execution_count": 27,
      "outputs": [
        {
          "output_type": "execute_result",
          "data": {
            "text/plain": [
              "Standard    49386\n",
              "Poor        26967\n",
              "Good        16585\n",
              "Name: Credit_Score, dtype: int64"
            ]
          },
          "metadata": {},
          "execution_count": 27
        }
      ]
    },
    {
      "cell_type": "markdown",
      "source": [
        "Dealing with Payment Behaviour column"
      ],
      "metadata": {
        "id": "Y6fJkgcW-q2k"
      }
    },
    {
      "cell_type": "code",
      "source": [
        "final_dataset['Payment_Behaviour'].value_counts()"
      ],
      "metadata": {
        "id": "i23K0g1Z-0Sk",
        "colab": {
          "base_uri": "https://localhost:8080/"
        },
        "outputId": "69b455ac-dc6e-4530-a411-3294ef32fed9"
      },
      "execution_count": 28,
      "outputs": [
        {
          "output_type": "execute_result",
          "data": {
            "text/plain": [
              "Low_spent_Small_value_payments      23720\n",
              "High_spent_Medium_value_payments    16301\n",
              "Low_spent_Medium_value_payments     12882\n",
              "High_spent_Large_value_payments     12767\n",
              "High_spent_Small_value_payments     10524\n",
              "Low_spent_Large_value_payments       9658\n",
              "!@9#%8                               7086\n",
              "Name: Payment_Behaviour, dtype: int64"
            ]
          },
          "metadata": {},
          "execution_count": 28
        }
      ]
    },
    {
      "cell_type": "code",
      "source": [
        "# Remove rows where the \"Payment_Behaviour\" column has the value \"!@9#%8\"\n",
        "final_dataset = final_dataset[~(final_dataset['Payment_Behaviour'] == '!@9#%8')]"
      ],
      "metadata": {
        "id": "mIXlSt7G_xxE"
      },
      "execution_count": 29,
      "outputs": []
    },
    {
      "cell_type": "code",
      "source": [
        "final_dataset['Payment_Behaviour'].value_counts()"
      ],
      "metadata": {
        "id": "sdYnkhWrAIT1",
        "colab": {
          "base_uri": "https://localhost:8080/"
        },
        "outputId": "b71f26a5-021c-41e7-b3fe-861dbdd127e9"
      },
      "execution_count": 30,
      "outputs": [
        {
          "output_type": "execute_result",
          "data": {
            "text/plain": [
              "Low_spent_Small_value_payments      23720\n",
              "High_spent_Medium_value_payments    16301\n",
              "Low_spent_Medium_value_payments     12882\n",
              "High_spent_Large_value_payments     12767\n",
              "High_spent_Small_value_payments     10524\n",
              "Low_spent_Large_value_payments       9658\n",
              "Name: Payment_Behaviour, dtype: int64"
            ]
          },
          "metadata": {},
          "execution_count": 30
        }
      ]
    },
    {
      "cell_type": "code",
      "source": [
        "final_dataset[\"Payment_Behaviour\"] = final_dataset[\"Payment_Behaviour\"].replace({\"High_spent_Large_value_payments\": 6,\n",
        "                                                                       \"High_spent_Medium_value_payments\": 5,\n",
        "                                                                       \"High_spent_Small_value_payments\": 4,\n",
        "                                                                       \"Low_spent_Large_value_payments\": 3,\n",
        "                                                                       \"Low_spent_Medium_value_payments\": 2,\n",
        "                                                                       \"Low_spent_Small_value_payments\": 1})\n"
      ],
      "metadata": {
        "id": "brMdYPGEAsqb",
        "colab": {
          "base_uri": "https://localhost:8080/"
        },
        "outputId": "ef0bccd3-be5f-45fb-e6e4-b5e90775deb7"
      },
      "execution_count": 31,
      "outputs": [
        {
          "output_type": "stream",
          "name": "stderr",
          "text": [
            "<ipython-input-31-12c807d84c04>:1: SettingWithCopyWarning: \n",
            "A value is trying to be set on a copy of a slice from a DataFrame.\n",
            "Try using .loc[row_indexer,col_indexer] = value instead\n",
            "\n",
            "See the caveats in the documentation: https://pandas.pydata.org/pandas-docs/stable/user_guide/indexing.html#returning-a-view-versus-a-copy\n",
            "  final_dataset[\"Payment_Behaviour\"] = final_dataset[\"Payment_Behaviour\"].replace({\"High_spent_Large_value_payments\": 6,\n"
          ]
        }
      ]
    },
    {
      "cell_type": "code",
      "source": [
        "final_dataset[\"Payment_Behaviour\"].value_counts()"
      ],
      "metadata": {
        "id": "iBs3qCG1ChMV",
        "colab": {
          "base_uri": "https://localhost:8080/"
        },
        "outputId": "2381c0b5-ee30-4bc2-a15f-904a709ccf1c"
      },
      "execution_count": 32,
      "outputs": [
        {
          "output_type": "execute_result",
          "data": {
            "text/plain": [
              "1    23720\n",
              "5    16301\n",
              "2    12882\n",
              "6    12767\n",
              "4    10524\n",
              "3     9658\n",
              "Name: Payment_Behaviour, dtype: int64"
            ]
          },
          "metadata": {},
          "execution_count": 32
        }
      ]
    },
    {
      "cell_type": "markdown",
      "source": [
        "Dealing with Total_EMI_per_month column"
      ],
      "metadata": {
        "id": "RaukIXRFCuId"
      }
    },
    {
      "cell_type": "code",
      "source": [
        "final_dataset['Total_EMI_per_month'].value_counts()"
      ],
      "metadata": {
        "id": "S-ZuGa8UC8wG",
        "colab": {
          "base_uri": "https://localhost:8080/"
        },
        "outputId": "e64f0867-1d2b-49cb-c0a3-257f13e1f116"
      },
      "execution_count": 33,
      "outputs": [
        {
          "output_type": "execute_result",
          "data": {
            "text/plain": [
              "0.000000        9051\n",
              "94.787996          8\n",
              "78.749713          8\n",
              "27.555866          8\n",
              "81.822857          8\n",
              "                ... \n",
              "991.000000         1\n",
              "19940.000000       1\n",
              "12598.000000       1\n",
              "23135.000000       1\n",
              "58638.000000       1\n",
              "Name: Total_EMI_per_month, Length: 14445, dtype: int64"
            ]
          },
          "metadata": {},
          "execution_count": 33
        }
      ]
    },
    {
      "cell_type": "markdown",
      "source": [
        "Dealing with the Payment_of_Min_Amount column"
      ],
      "metadata": {
        "id": "JQaImpT0EBeO"
      }
    },
    {
      "cell_type": "code",
      "source": [
        "final_dataset['Payment_of_Min_Amount'].value_counts()"
      ],
      "metadata": {
        "id": "J0ECoqk9EJ1E",
        "colab": {
          "base_uri": "https://localhost:8080/"
        },
        "outputId": "328796a1-05f0-412b-fdb9-9b33b86babf0"
      },
      "execution_count": 34,
      "outputs": [
        {
          "output_type": "execute_result",
          "data": {
            "text/plain": [
              "Yes    44892\n",
              "No     30635\n",
              "NM     10325\n",
              "Name: Payment_of_Min_Amount, dtype: int64"
            ]
          },
          "metadata": {},
          "execution_count": 34
        }
      ]
    },
    {
      "cell_type": "code",
      "source": [
        "final_dataset['Payment_of_Min_Amount'] = final_dataset['Payment_of_Min_Amount'].replace({\"No\": 2,\n",
        "                                                                       \"Yes\": 1,\n",
        "                                                                       \"NM\": 0})"
      ],
      "metadata": {
        "id": "Z0hFUY9CEmMc",
        "colab": {
          "base_uri": "https://localhost:8080/"
        },
        "outputId": "59ea8fad-9b08-4511-876c-4d94e8e7e06b"
      },
      "execution_count": 35,
      "outputs": [
        {
          "output_type": "stream",
          "name": "stderr",
          "text": [
            "<ipython-input-35-735823938f1a>:1: SettingWithCopyWarning: \n",
            "A value is trying to be set on a copy of a slice from a DataFrame.\n",
            "Try using .loc[row_indexer,col_indexer] = value instead\n",
            "\n",
            "See the caveats in the documentation: https://pandas.pydata.org/pandas-docs/stable/user_guide/indexing.html#returning-a-view-versus-a-copy\n",
            "  final_dataset['Payment_of_Min_Amount'] = final_dataset['Payment_of_Min_Amount'].replace({\"No\": 2,\n"
          ]
        }
      ]
    },
    {
      "cell_type": "code",
      "source": [
        "final_dataset['Payment_of_Min_Amount'].value_counts()"
      ],
      "metadata": {
        "id": "zdhWAtJbFEIr",
        "colab": {
          "base_uri": "https://localhost:8080/"
        },
        "outputId": "59cd3887-36f9-496b-85d9-3184178791ba"
      },
      "execution_count": 36,
      "outputs": [
        {
          "output_type": "execute_result",
          "data": {
            "text/plain": [
              "1    44892\n",
              "2    30635\n",
              "0    10325\n",
              "Name: Payment_of_Min_Amount, dtype: int64"
            ]
          },
          "metadata": {},
          "execution_count": 36
        }
      ]
    },
    {
      "cell_type": "markdown",
      "source": [
        "Dealing with Outstanding_Debt column"
      ],
      "metadata": {
        "id": "R4jl5HbNF601"
      }
    },
    {
      "cell_type": "code",
      "source": [
        "final_dataset['Outstanding_Debt'].value_counts()"
      ],
      "metadata": {
        "id": "rMjZbPl4GEVs",
        "colab": {
          "base_uri": "https://localhost:8080/"
        },
        "outputId": "1ea28fa9-507c-402c-eaca-f4119c15dad8"
      },
      "execution_count": 37,
      "outputs": [
        {
          "output_type": "execute_result",
          "data": {
            "text/plain": [
              "1151.7      23\n",
              "1360.45     21\n",
              "460.46      20\n",
              "1109.03     19\n",
              "815.62      16\n",
              "            ..\n",
              "1190.67_     1\n",
              "1644.31_     1\n",
              "884.18_      1\n",
              "825.25_      1\n",
              "864.67_      1\n",
              "Name: Outstanding_Debt, Length: 13034, dtype: int64"
            ]
          },
          "metadata": {},
          "execution_count": 37
        }
      ]
    },
    {
      "cell_type": "code",
      "source": [
        "# Remove rows where the \"Outstanding_Debt\" column has the value \"_\"\n",
        "final_dataset['Outstanding_Debt'] = final_dataset['Outstanding_Debt'].str.replace('_', '')\n",
        "# Converting \"Outstanding_Debt\" column to numeric\n",
        "final_dataset['Outstanding_Debt'] = pd.to_numeric(final_dataset['Outstanding_Debt'],errors='coerce')"
      ],
      "metadata": {
        "id": "GYDljYdjGXgy"
      },
      "execution_count": 38,
      "outputs": []
    },
    {
      "cell_type": "code",
      "source": [
        "final_dataset['Outstanding_Debt'].value_counts()"
      ],
      "metadata": {
        "id": "dB2ZMzR_GnGh",
        "colab": {
          "base_uri": "https://localhost:8080/"
        },
        "outputId": "3ade0fbd-2a01-4ddd-a632-bdd9c2e098e1"
      },
      "execution_count": 39,
      "outputs": [
        {
          "output_type": "execute_result",
          "data": {
            "text/plain": [
              "1151.70    24\n",
              "1360.45    21\n",
              "460.46     21\n",
              "1109.03    20\n",
              "804.31     16\n",
              "           ..\n",
              "884.52      2\n",
              "1424.12     2\n",
              "829.30      2\n",
              "1661.55     1\n",
              "45.65       1\n",
              "Name: Outstanding_Debt, Length: 12203, dtype: int64"
            ]
          },
          "metadata": {},
          "execution_count": 39
        }
      ]
    },
    {
      "cell_type": "markdown",
      "source": [
        "Dealing with Delay_from_due_date column"
      ],
      "metadata": {
        "id": "_LInnZ3xH3p4"
      }
    },
    {
      "cell_type": "code",
      "source": [
        "final_dataset['Delay_from_due_date'].value_counts()"
      ],
      "metadata": {
        "id": "8dvZIg1rH63m",
        "colab": {
          "base_uri": "https://localhost:8080/"
        },
        "outputId": "dca955d0-585a-4879-f1a8-28395735dc0d"
      },
      "execution_count": 40,
      "outputs": [
        {
          "output_type": "execute_result",
          "data": {
            "text/plain": [
              " 15    3096\n",
              " 13    2903\n",
              " 14    2846\n",
              " 8     2839\n",
              " 10    2801\n",
              "       ... \n",
              "-4       52\n",
              " 65      47\n",
              " 66      28\n",
              "-5       27\n",
              " 67      19\n",
              "Name: Delay_from_due_date, Length: 73, dtype: int64"
            ]
          },
          "metadata": {},
          "execution_count": 40
        }
      ]
    },
    {
      "cell_type": "code",
      "source": [
        "final_dataset.loc[final_dataset['Delay_from_due_date'] < 0, 'Delay_from_due_date'] = 0"
      ],
      "metadata": {
        "id": "ZhrleW9HMvO3"
      },
      "execution_count": 41,
      "outputs": []
    },
    {
      "cell_type": "code",
      "source": [
        "final_dataset['Delay_from_due_date'].value_counts()"
      ],
      "metadata": {
        "id": "5tmmrDiTNnij",
        "colab": {
          "base_uri": "https://localhost:8080/"
        },
        "outputId": "97985675-9531-4bc1-a4d5-531f9b78b31a"
      },
      "execution_count": 42,
      "outputs": [
        {
          "output_type": "execute_result",
          "data": {
            "text/plain": [
              "15    3096\n",
              "13    2903\n",
              "14    2846\n",
              "8     2839\n",
              "10    2801\n",
              "      ... \n",
              "63      58\n",
              "64      53\n",
              "65      47\n",
              "66      28\n",
              "67      19\n",
              "Name: Delay_from_due_date, Length: 68, dtype: int64"
            ]
          },
          "metadata": {},
          "execution_count": 42
        }
      ]
    },
    {
      "cell_type": "markdown",
      "source": [
        "Dealing with the Num_of_Loan column"
      ],
      "metadata": {
        "id": "-Ac0Ob9JQRK5"
      }
    },
    {
      "cell_type": "code",
      "source": [
        "final_dataset['Num_of_Loan'].value_counts()"
      ],
      "metadata": {
        "id": "JH0fjvX9QaRx",
        "colab": {
          "base_uri": "https://localhost:8080/"
        },
        "outputId": "ffcf29cb-cc4f-4042-a199-c739f29edf16"
      },
      "execution_count": 43,
      "outputs": [
        {
          "output_type": "execute_result",
          "data": {
            "text/plain": [
              "3        12340\n",
              "2        12302\n",
              "4        12049\n",
              "0         8842\n",
              "1         8681\n",
              "         ...  \n",
              "252          1\n",
              "745          1\n",
              "1320_        1\n",
              "103          1\n",
              "966          1\n",
              "Name: Num_of_Loan, Length: 378, dtype: int64"
            ]
          },
          "metadata": {},
          "execution_count": 43
        }
      ]
    },
    {
      "cell_type": "code",
      "source": [
        "# Remove rows where the \"Num_of_Loan\" column has the value \"_\"\n",
        "final_dataset['Num_of_Loan'] = final_dataset['Num_of_Loan'].str.replace('_', '')\n",
        "# Converting \"Num_of_Loan\" column to numeric\n",
        "final_dataset['Num_of_Loan'] = pd.to_numeric(final_dataset['Num_of_Loan'],errors='coerce')"
      ],
      "metadata": {
        "id": "S5bwQD0TQ1qk"
      },
      "execution_count": 44,
      "outputs": []
    },
    {
      "cell_type": "code",
      "source": [
        "final_dataset.loc[final_dataset['Num_of_Loan'] == \"-100\", 'Num_of_Loan'] = np.nan"
      ],
      "metadata": {
        "id": "SeNlzqslRiOi"
      },
      "execution_count": 45,
      "outputs": []
    },
    {
      "cell_type": "code",
      "source": [
        "# Calculate the median Num_of_Loan by customer using groupby and summarize\n",
        "median_Num_of_Loan_customer = final_dataset.groupby('Customer_ID').agg(median_Num_of_Loan=('Num_of_Loan', 'median'))\n",
        "\n",
        "# Join the median Num_of_Loan column to the dataset\n",
        "final_dataset = pd.merge(final_dataset, median_Num_of_Loan_customer, on='Customer_ID', how='left')\n",
        "\n",
        "# Replace rows with a value of 0 in Num_of_Loan column with median credit history age\n",
        "final_dataset['Num_of_Loan'].fillna(final_dataset['median_Num_of_Loan'], inplace=True)\n",
        "\n",
        "# Drop the median Num_of_Loan column\n",
        "final_dataset.drop('median_Num_of_Loan', axis=1, inplace=True)"
      ],
      "metadata": {
        "id": "GhH9DpCuRFGo"
      },
      "execution_count": 46,
      "outputs": []
    },
    {
      "cell_type": "code",
      "source": [
        "final_dataset['Num_of_Loan'].value_counts()"
      ],
      "metadata": {
        "id": "UjA38kOWTQjt",
        "colab": {
          "base_uri": "https://localhost:8080/"
        },
        "outputId": "7dff3f15-c94a-4d7e-cf89-9afc9f9c2f2e"
      },
      "execution_count": 47,
      "outputs": [
        {
          "output_type": "execute_result",
          "data": {
            "text/plain": [
              "2.0       12974\n",
              "3.0       12964\n",
              "4.0       12660\n",
              "0.0        9322\n",
              "1.0        9126\n",
              "          ...  \n",
              "952.0         1\n",
              "661.0         1\n",
              "321.0         1\n",
              "1439.0        1\n",
              "966.0         1\n",
              "Name: Num_of_Loan, Length: 361, dtype: int64"
            ]
          },
          "metadata": {},
          "execution_count": 47
        }
      ]
    },
    {
      "cell_type": "code",
      "source": [
        "final_dataset.info()"
      ],
      "metadata": {
        "id": "xSPisw_UYd9g",
        "colab": {
          "base_uri": "https://localhost:8080/"
        },
        "outputId": "c540641a-c8a7-4bc9-c323-10a13668d8b6"
      },
      "execution_count": 48,
      "outputs": [
        {
          "output_type": "stream",
          "name": "stdout",
          "text": [
            "<class 'pandas.core.frame.DataFrame'>\n",
            "Int64Index: 85852 entries, 0 to 85851\n",
            "Data columns (total 15 columns):\n",
            " #   Column                  Non-Null Count  Dtype   \n",
            "---  ------                  --------------  -----   \n",
            " 0   ID                      85852 non-null  object  \n",
            " 1   Customer_ID             85852 non-null  category\n",
            " 2   Occupation              85852 non-null  object  \n",
            " 3   Annual_Income           85852 non-null  float64 \n",
            " 4   Monthly_Inhand_Salary   85852 non-null  float64 \n",
            " 5   Num_of_Loan             85852 non-null  float64 \n",
            " 6   Delay_from_due_date     85852 non-null  int64   \n",
            " 7   Num_of_Delayed_Payment  85852 non-null  float64 \n",
            " 8   Outstanding_Debt        85852 non-null  float64 \n",
            " 9   Credit_History_Age      85852 non-null  float64 \n",
            " 10  Payment_of_Min_Amount   85852 non-null  int64   \n",
            " 11  Total_EMI_per_month     85852 non-null  float64 \n",
            " 12  Payment_Behaviour       85852 non-null  int64   \n",
            " 13  Monthly_Balance         85852 non-null  float64 \n",
            " 14  Credit_Score            85852 non-null  object  \n",
            "dtypes: category(1), float64(8), int64(3), object(3)\n",
            "memory usage: 10.3+ MB\n"
          ]
        }
      ]
    },
    {
      "cell_type": "markdown",
      "source": [
        "Lets work on the outliers in different columns like \"Num_of_Delayed_Payment\", \"Total_EMI_per_month\", \"Num_of_Loan\" and \"Annual_Income\""
      ],
      "metadata": {
        "id": "IjtsQvuEZKWh"
      }
    },
    {
      "cell_type": "code",
      "source": [
        "#sorted(final_dataset['Num_of_Delayed_Payment'])"
      ],
      "metadata": {
        "id": "-1xyr1Y5Zsq3"
      },
      "execution_count": 49,
      "outputs": []
    },
    {
      "cell_type": "code",
      "source": [
        "#quantile1, quantile3 = np.percentile(final_dataset['Num_of_Delayed_Payment'],[25,75])"
      ],
      "metadata": {
        "id": "Z5sEBzKBbmjF"
      },
      "execution_count": 50,
      "outputs": []
    },
    {
      "cell_type": "code",
      "source": [
        "#print(quantile1,quantile3)"
      ],
      "metadata": {
        "id": "WNS9n_ryoAFL"
      },
      "execution_count": 51,
      "outputs": []
    },
    {
      "cell_type": "code",
      "source": [
        "#iqr_value = quantile3 - quantile1\n",
        "#print(iqr_value)"
      ],
      "metadata": {
        "id": "wiILUw26oItg"
      },
      "execution_count": 52,
      "outputs": []
    },
    {
      "cell_type": "code",
      "source": [
        "#lowerbound = quantile1 - (1.5 * iqr_value)\n",
        "#upperbound = quantile3 + (1.5 * iqr_value)\n",
        "#print(lowerbound,upperbound)"
      ],
      "metadata": {
        "id": "B22gnpMHojuo"
      },
      "execution_count": 53,
      "outputs": []
    }
  ]
}